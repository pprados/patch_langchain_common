{
 "cells": [
  {
   "cell_type": "markdown",
   "metadata": {},
   "source": [
    "# PyPDFLoader\n",
    "\n",
    "This notebook provides a quick overview for getting started with `PyPDF` [document loader](https://python.langchain.com/docs/concepts/document_loaders). For detailed documentation of all DocumentLoader features and configurations head to the [API reference](https://python.langchain.com/api_reference/community/document_loaders/langchain_community.document_loaders.pdf.PyPDFLoader.html).\n",
    "\n",
    "  \n",
    "\n",
    "## Overview\n",
    "### Integration details\n",
    "\n",
    "| Class | Package | Local | Serializable | JS support|\n",
    "| :--- | :--- | :---: | :---: |  :---: |\n",
    "| [PyPDFLoader](https://python.langchain.com/api_reference/community/document_loaders/langchain_community.document_loaders.pdf.PyPDFLoader.html) | [langchain_community](https://python.langchain.com/api_reference/community/index.html) | ✅ | ❌ | ❌ |   \n",
    "   \n",
    "---------   \n",
    "\n",
    "### Loader features\n",
    "\n",
    "|   Source    | Document Lazy Loading | Native Async Support | Extract Images | Extract Tables |\n",
    "|:-----------:| :---: | :---: | :---: |:---: |\n",
    "| PyPDFLoader | ✅ | ❌ | ✅ | ❌  |\n",
    "\n",
    "  \n",
    "\n",
    "## Setup\n",
    "\n",
    "### Credentials\n",
    "\n",
    "No credentials are required to use `PyPDFLoader`."
   ]
  },
  {
   "metadata": {},
   "cell_type": "markdown",
   "source": "If you want to get automated best in-class tracing of your model calls you can also set your [LangSmith](https://docs.smith.langchain.com/) API key by uncommenting below:"
  },
  {
   "metadata": {
    "ExecuteTime": {
     "end_time": "2024-12-11T15:12:59.113155Z",
     "start_time": "2024-12-11T15:12:59.110498Z"
    }
   },
   "cell_type": "code",
   "source": [
    "# os.environ[\"LANGSMITH_API_KEY\"] = getpass.getpass(\"Enter your LangSmith API key: \")\n",
    "# os.environ[\"LANGSMITH_TRACING\"] = \"true\""
   ],
   "outputs": [],
   "execution_count": 1
  },
  {
   "metadata": {},
   "cell_type": "markdown",
   "source": [
    "### Installation\n",
    "\n",
    "Install **langchain_community**."
   ]
  },
  {
   "cell_type": "code",
   "metadata": {
    "ExecuteTime": {
     "end_time": "2024-12-11T15:13:02.414250Z",
     "start_time": "2024-12-11T15:12:59.184540Z"
    }
   },
   "source": [
    "%pip install -qU langchain_community pypdf pillow\n",
    "%pip install -qq ../../../../dist/patch_langchain_pdf_loader*.whl"
   ],
   "outputs": [
    {
     "name": "stdout",
     "output_type": "stream",
     "text": [
      "Note: you may need to restart the kernel to use updated packages.\n",
      "Note: you may need to restart the kernel to use updated packages.\n"
     ]
    }
   ],
   "execution_count": 2
  },
  {
   "cell_type": "markdown",
   "metadata": {},
   "source": [
    "## Initialization\n",
    "\n",
    "Now we can instantiate our model object and load documents:"
   ]
  },
  {
   "cell_type": "code",
   "metadata": {
    "ExecuteTime": {
     "end_time": "2024-12-11T15:13:03.411185Z",
     "start_time": "2024-12-11T15:13:02.612477Z"
    }
   },
   "source": [
    "from patch_langchain_community.document_loaders import PyPDFLoader\n",
    "\n",
    "file_path = \"./example_data/layout-parser-paper.pdf\"\n",
    "loader = PyPDFLoader(file_path)"
   ],
   "outputs": [],
   "execution_count": 3
  },
  {
   "cell_type": "markdown",
   "metadata": {},
   "source": [
    "## Load"
   ]
  },
  {
   "cell_type": "code",
   "metadata": {
    "ExecuteTime": {
     "end_time": "2024-12-11T15:13:03.826319Z",
     "start_time": "2024-12-11T15:13:03.421366Z"
    }
   },
   "source": [
    "docs = loader.load()\n",
    "docs[0]"
   ],
   "outputs": [
    {
     "data": {
      "text/plain": [
       "Document(metadata={'author': '', 'creationdate': '2021-06-22T01:27:10+00:00', 'creator': 'LaTeX with hyperref', 'keywords': '', 'moddate': '2021-06-22T01:27:10+00:00', 'ptex.fullbanner': 'This is pdfTeX, Version 3.14159265-2.6-1.40.21 (TeX Live 2020) kpathsea version 6.3.2', 'producer': 'pdfTeX-1.40.21', 'subject': '', 'title': '', 'trapped': '/False', 'source': './example_data/layout-parser-paper.pdf', 'total_pages': 16, 'page': 0}, page_content='LayoutParser: A Uniﬁed Toolkit for Deep\\nLearning Based Document Image Analysis\\nZejiang Shen1 (\\x00 ), Ruochen Zhang2, Melissa Dell3, Benjamin Charles Germain\\nLee4, Jacob Carlson3, and Weining Li5\\n1 Allen Institute for AI\\nshannons@allenai.org\\n2 Brown University\\nruochen zhang@brown.edu\\n3 Harvard University\\n{melissadell,jacob carlson}@fas.harvard.edu\\n4 University of Washington\\nbcgl@cs.washington.edu\\n5 University of Waterloo\\nw422li@uwaterloo.ca\\nAbstract. Recent advances in document image analysis (DIA) have been\\nprimarily driven by the application of neural networks. Ideally, research\\noutcomes could be easily deployed in production and extended for further\\ninvestigation. However, various factors like loosely organized codebases\\nand sophisticated model conﬁgurations complicate the easy reuse of im-\\nportant innovations by a wide audience. Though there have been on-going\\neﬀorts to improve reusability and simplify deep learning (DL) model\\ndevelopment in disciplines like natural language processing and computer\\nvision, none of them are optimized for challenges in the domain of DIA.\\nThis represents a major gap in the existing toolkit, as DIA is central to\\nacademic research across a wide range of disciplines in the social sciences\\nand humanities. This paper introduces LayoutParser, an open-source\\nlibrary for streamlining the usage of DL in DIA research and applica-\\ntions. The core LayoutParser library comes with a set of simple and\\nintuitive interfaces for applying and customizing DL models for layout de-\\ntection, character recognition, and many other document processing tasks.\\nTo promote extensibility, LayoutParser also incorporates a community\\nplatform for sharing both pre-trained models and full document digiti-\\nzation pipelines. We demonstrate that LayoutParser is helpful for both\\nlightweight and large-scale digitization pipelines in real-word use cases.\\nThe library is publicly available at https://layout-parser.github.io.\\nKeywords: Document Image Analysis · Deep Learning · Layout Analysis\\n· Character Recognition · Open Source library · Toolkit.\\n1 Introduction\\nDeep Learning(DL)-based approaches are the state-of-the-art for a wide range of\\ndocument image analysis (DIA) tasks including document image classiﬁcation [11,\\narXiv:2103.15348v2  [cs.CV]  21 Jun 2021')"
      ]
     },
     "execution_count": 4,
     "metadata": {},
     "output_type": "execute_result"
    }
   ],
   "execution_count": 4
  },
  {
   "cell_type": "code",
   "metadata": {
    "ExecuteTime": {
     "end_time": "2024-12-11T15:13:03.848058Z",
     "start_time": "2024-12-11T15:13:03.845203Z"
    }
   },
   "source": [
    "import pprint\n",
    "\n",
    "pprint.pp(docs[0].metadata)"
   ],
   "outputs": [
    {
     "name": "stdout",
     "output_type": "stream",
     "text": [
      "{'author': '',\n",
      " 'creationdate': '2021-06-22T01:27:10+00:00',\n",
      " 'creator': 'LaTeX with hyperref',\n",
      " 'keywords': '',\n",
      " 'moddate': '2021-06-22T01:27:10+00:00',\n",
      " 'ptex.fullbanner': 'This is pdfTeX, Version 3.14159265-2.6-1.40.21 (TeX Live '\n",
      "                    '2020) kpathsea version 6.3.2',\n",
      " 'producer': 'pdfTeX-1.40.21',\n",
      " 'subject': '',\n",
      " 'title': '',\n",
      " 'trapped': '/False',\n",
      " 'source': './example_data/layout-parser-paper.pdf',\n",
      " 'total_pages': 16,\n",
      " 'page': 0}\n"
     ]
    }
   ],
   "execution_count": 5
  },
  {
   "cell_type": "markdown",
   "metadata": {},
   "source": [
    "## Lazy Load\n"
   ]
  },
  {
   "cell_type": "code",
   "metadata": {
    "ExecuteTime": {
     "end_time": "2024-12-11T15:13:04.286779Z",
     "start_time": "2024-12-11T15:13:03.903276Z"
    }
   },
   "source": [
    "pages = []\n",
    "for doc in loader.lazy_load():\n",
    "    pages.append(doc)\n",
    "    if len(pages) >= 10:\n",
    "        # do some paged operation, e.g.\n",
    "        # index.upsert(page)\n",
    "\n",
    "        pages = []\n",
    "len(pages)"
   ],
   "outputs": [
    {
     "data": {
      "text/plain": [
       "6"
      ]
     },
     "execution_count": 6,
     "metadata": {},
     "output_type": "execute_result"
    }
   ],
   "execution_count": 6
  },
  {
   "metadata": {},
   "cell_type": "markdown",
   "source": [
    "*Metadata attribute now contains several pieces of information about the file in addition to the total number of pages.*   \n",
    "*Why is this important? If we want to reference a document, we need to determine if it’s relevant. A reference is valid if it helps the user quickly locate the fragment within the document (using the page and/or a chunk excerpt). But if the URL points to a PDF file without a page number (for various reasons) and the file has a large number of pages, we want to remove the reference that doesn’t assist the user. There’s no point in referencing a 100-page document! The total_pages metadata can then be used.*"
   ]
  },
  {
   "cell_type": "code",
   "metadata": {
    "ExecuteTime": {
     "end_time": "2024-12-11T15:13:04.310172Z",
     "start_time": "2024-12-11T15:13:04.306185Z"
    }
   },
   "source": [
    "pprint.pp(pages[0].page_content[:100])\n",
    "pprint.pp(pages[0].metadata)"
   ],
   "outputs": [
    {
     "name": "stdout",
     "output_type": "stream",
     "text": [
      "('LayoutParser: A Uniﬁed Toolkit for DL-Based DIA 11\\n'\n",
      " 'focuses on precision, eﬃciency, and robustness. T')\n",
      "{'author': '',\n",
      " 'creationdate': '2021-06-22T01:27:10+00:00',\n",
      " 'creator': 'LaTeX with hyperref',\n",
      " 'keywords': '',\n",
      " 'moddate': '2021-06-22T01:27:10+00:00',\n",
      " 'ptex.fullbanner': 'This is pdfTeX, Version 3.14159265-2.6-1.40.21 (TeX Live '\n",
      "                    '2020) kpathsea version 6.3.2',\n",
      " 'producer': 'pdfTeX-1.40.21',\n",
      " 'subject': '',\n",
      " 'title': '',\n",
      " 'trapped': '/False',\n",
      " 'source': './example_data/layout-parser-paper.pdf',\n",
      " 'total_pages': 16,\n",
      " 'page': 10}\n"
     ]
    }
   ],
   "execution_count": 7
  },
  {
   "metadata": {},
   "cell_type": "markdown",
   "source": "## Extract the PDF by page. Each page is extracted as a langchain Document object:"
  },
  {
   "metadata": {
    "ExecuteTime": {
     "end_time": "2024-12-11T15:13:04.718938Z",
     "start_time": "2024-12-11T15:13:04.363422Z"
    }
   },
   "cell_type": "code",
   "source": [
    "loader = PyPDFLoader(\n",
    "    \"./example_data/layout-parser-paper.pdf\",\n",
    "    mode=\"page\",\n",
    ")\n",
    "docs = loader.load()\n",
    "print(len(docs))"
   ],
   "outputs": [
    {
     "name": "stdout",
     "output_type": "stream",
     "text": [
      "16\n"
     ]
    }
   ],
   "execution_count": 8
  },
  {
   "metadata": {},
   "cell_type": "markdown",
   "source": "## Extract the whole PDF as a single langchain Document object:"
  },
  {
   "metadata": {
    "ExecuteTime": {
     "end_time": "2024-12-11T15:13:05.016680Z",
     "start_time": "2024-12-11T15:13:04.739002Z"
    }
   },
   "cell_type": "code",
   "source": [
    "loader = PyPDFLoader(\n",
    "    \"./example_data/layout-parser-paper.pdf\",\n",
    "    mode=\"single\",\n",
    ")\n",
    "docs = loader.load()\n",
    "print(len(docs))"
   ],
   "outputs": [
    {
     "name": "stdout",
     "output_type": "stream",
     "text": [
      "1\n"
     ]
    }
   ],
   "execution_count": 9
  },
  {
   "metadata": {},
   "cell_type": "markdown",
   "source": "## Add a custom *pages_delimitor* to identify where are ends of pages in *single* mode:"
  },
  {
   "metadata": {
    "ExecuteTime": {
     "end_time": "2024-12-11T15:13:05.412714Z",
     "start_time": "2024-12-11T15:13:05.034893Z"
    }
   },
   "cell_type": "code",
   "source": [
    "loader = PyPDFLoader(\n",
    "    \"./example_data/layout-parser-paper.pdf\",\n",
    "    mode=\"single\",\n",
    "    pages_delimitor=\"\\n-------THIS IS A CUSTOM END OF PAGE-------\\n\",\n",
    ")\n",
    "docs = loader.load()\n",
    "print(docs[0].page_content[:5780])"
   ],
   "outputs": [
    {
     "name": "stdout",
     "output_type": "stream",
     "text": [
      "LayoutParser: A Uniﬁed Toolkit for Deep\n",
      "Learning Based Document Image Analysis\n",
      "Zejiang Shen1 (\u0000 ), Ruochen Zhang2, Melissa Dell3, Benjamin Charles Germain\n",
      "Lee4, Jacob Carlson3, and Weining Li5\n",
      "1 Allen Institute for AI\n",
      "shannons@allenai.org\n",
      "2 Brown University\n",
      "ruochen zhang@brown.edu\n",
      "3 Harvard University\n",
      "{melissadell,jacob carlson}@fas.harvard.edu\n",
      "4 University of Washington\n",
      "bcgl@cs.washington.edu\n",
      "5 University of Waterloo\n",
      "w422li@uwaterloo.ca\n",
      "Abstract. Recent advances in document image analysis (DIA) have been\n",
      "primarily driven by the application of neural networks. Ideally, research\n",
      "outcomes could be easily deployed in production and extended for further\n",
      "investigation. However, various factors like loosely organized codebases\n",
      "and sophisticated model conﬁgurations complicate the easy reuse of im-\n",
      "portant innovations by a wide audience. Though there have been on-going\n",
      "eﬀorts to improve reusability and simplify deep learning (DL) model\n",
      "development in disciplines like natural language processing and computer\n",
      "vision, none of them are optimized for challenges in the domain of DIA.\n",
      "This represents a major gap in the existing toolkit, as DIA is central to\n",
      "academic research across a wide range of disciplines in the social sciences\n",
      "and humanities. This paper introduces LayoutParser, an open-source\n",
      "library for streamlining the usage of DL in DIA research and applica-\n",
      "tions. The core LayoutParser library comes with a set of simple and\n",
      "intuitive interfaces for applying and customizing DL models for layout de-\n",
      "tection, character recognition, and many other document processing tasks.\n",
      "To promote extensibility, LayoutParser also incorporates a community\n",
      "platform for sharing both pre-trained models and full document digiti-\n",
      "zation pipelines. We demonstrate that LayoutParser is helpful for both\n",
      "lightweight and large-scale digitization pipelines in real-word use cases.\n",
      "The library is publicly available at https://layout-parser.github.io.\n",
      "Keywords: Document Image Analysis · Deep Learning · Layout Analysis\n",
      "· Character Recognition · Open Source library · Toolkit.\n",
      "1 Introduction\n",
      "Deep Learning(DL)-based approaches are the state-of-the-art for a wide range of\n",
      "document image analysis (DIA) tasks including document image classiﬁcation [11,\n",
      "arXiv:2103.15348v2  [cs.CV]  21 Jun 2021\n",
      "-------THIS IS A CUSTOM END OF PAGE-------\n",
      "2 Z. Shen et al.\n",
      "37], layout detection [38, 22], table detection [ 26], and scene text detection [ 4].\n",
      "A generalized learning-based framework dramatically reduces the need for the\n",
      "manual speciﬁcation of complicated rules, which is the status quo with traditional\n",
      "methods. DL has the potential to transform DIA pipelines and beneﬁt a broad\n",
      "spectrum of large-scale document digitization projects.\n",
      "However, there are several practical diﬃculties for taking advantages of re-\n",
      "cent advances in DL-based methods: 1) DL models are notoriously convoluted\n",
      "for reuse and extension. Existing models are developed using distinct frame-\n",
      "works like TensorFlow [1] or PyTorch [ 24], and the high-level parameters can\n",
      "be obfuscated by implementation details [ 8]. It can be a time-consuming and\n",
      "frustrating experience to debug, reproduce, and adapt existing models for DIA,\n",
      "and many researchers who would beneﬁt the most from using these methods lack\n",
      "the technical background to implement them from scratch. 2) Document images\n",
      "contain diverse and disparate patterns across domains, and customized training\n",
      "is often required to achieve a desirable detection accuracy. Currently there is no\n",
      "full-ﬂedged infrastructure for easily curating the target document image datasets\n",
      "and ﬁne-tuning or re-training the models. 3) DIA usually requires a sequence of\n",
      "models and other processing to obtain the ﬁnal outputs. Often research teams use\n",
      "DL models and then perform further document analyses in separate processes,\n",
      "and these pipelines are not documented in any central location (and often not\n",
      "documented at all). This makes it diﬃcult for research teams to learn about how\n",
      "full pipelines are implemented and leads them to invest signiﬁcant resources in\n",
      "reinventing the DIA wheel .\n",
      "LayoutParser provides a uniﬁed toolkit to support DL-based document image\n",
      "analysis and processing. To address the aforementioned challenges,LayoutParser\n",
      "is built with the following components:\n",
      "1. An oﬀ-the-shelf toolkit for applying DL models for layout detection, character\n",
      "recognition, and other DIA tasks (Section 3)\n",
      "2. A rich repository of pre-trained neural network models (Model Zoo) that\n",
      "underlies the oﬀ-the-shelf usage\n",
      "3. Comprehensive tools for eﬃcient document image data annotation and model\n",
      "tuning to support diﬀerent levels of customization\n",
      "4. A DL model hub and community platform for the easy sharing, distribu-\n",
      "tion, and discussion of DIA models and pipelines, to promote reusability,\n",
      "reproducibility, and extensibility (Section 4)\n",
      "The library implements simple and intuitive Python APIs without sacriﬁcing\n",
      "generalizability and versatility, and can be easily installed via pip. Its convenient\n",
      "functions for handling document image data can be seamlessly integrated with\n",
      "existing DIA pipelines. With detailed documentations and carefully curated\n",
      "tutorials, we hope this tool will beneﬁt a variety of end-users, and will lead to\n",
      "advances in applications in both industry and academic research.\n",
      "LayoutParser is well aligned with recent eﬀorts for improving DL model\n",
      "reusability in other disciplines like natural language processing [ 8, 34] and com-\n",
      "puter vision [ 35], but with a focus on unique challenges in DIA. We show\n",
      "LayoutParser can be applied in sophisticated and large-scale digitization projects\n",
      "-------THIS IS A CUSTOM END OF PAGE-------\n",
      "LayoutParser: A Uniﬁed Toolkit for DL-Based DIA 3\n",
      "that require precision, eﬃciency, and robustness, as well as simple and light\n"
     ]
    }
   ],
   "execution_count": 10
  },
  {
   "metadata": {},
   "cell_type": "markdown",
   "source": [
    "*This could simply be \\n, or \\f to clearly indicate a page change, or \\<!-- PAGE BREAK --> for seamless injection in a Markdown viewer without a visual effect.*\n",
    "\n",
    "*Why is it important to identify page breaks when retrieving the full document flow? Because we generally want to provide a URL with the chunk’s location when the LLM answers. While it’s possible to reference the entire PDF, this isn’t practical if it’s more than two pages long. It’s better to indicate the specific page to display in the URL. Therefore, assistance is needed so that chunking algorithms can add the page metadata to each chunk. The choice of delimiter helps the algorithm prioritize this parameter.*"
   ]
  },
  {
   "metadata": {},
   "cell_type": "markdown",
   "source": "# Extract images from the PDF"
  },
  {
   "metadata": {},
   "cell_type": "markdown",
   "source": [
    "*In LangChain the OCR process used by the parsers involves asking the parser for the text on a page, then retrieving images to apply OCR.   \n",
    "In the previous implementation the text extracted from images was appended to the end of the page text. In a RAG context it means if in the original document a paragraph is spread across two pages it would have been cut in half by the OCR process putting the text (from the image) in between, worsening RAG model's performance.*    \n",
    "   \n",
    "*To avoid this, we modified the strategy for injecting OCR results from images. Now, the result is inserted between the last and the second-to-last paragraphs of text (\\n\\n or \\n) of the page.*"
   ]
  },
  {
   "metadata": {},
   "cell_type": "markdown",
   "source": "## Extract images from the PDF in *html* format (can also be *markdown* or *text*) with rapid OCR: "
  },
  {
   "metadata": {
    "ExecuteTime": {
     "end_time": "2024-12-11T15:13:06.675987Z",
     "start_time": "2024-12-11T15:13:05.434060Z"
    }
   },
   "cell_type": "code",
   "source": "%pip install -qU rapidocr-onnxruntime",
   "outputs": [
    {
     "name": "stdout",
     "output_type": "stream",
     "text": [
      "Note: you may need to restart the kernel to use updated packages.\n"
     ]
    }
   ],
   "execution_count": 11
  },
  {
   "metadata": {
    "ExecuteTime": {
     "end_time": "2024-12-11T15:13:41.254995Z",
     "start_time": "2024-12-11T15:13:06.693829Z"
    }
   },
   "cell_type": "code",
   "source": [
    "from patch_langchain_community.document_loaders.parsers.pdf import (\n",
    "    convert_images_to_text_with_rapidocr,\n",
    ")\n",
    "\n",
    "loader = PyPDFLoader(\n",
    "    \"./example_data/layout-parser-paper.pdf\",\n",
    "    mode=\"page\",\n",
    "    extract_images=True,\n",
    "    images_to_text=convert_images_to_text_with_rapidocr(format=\"html\"),\n",
    ")\n",
    "docs = loader.load()\n",
    "\n",
    "print(docs[5].page_content)"
   ],
   "outputs": [
    {
     "name": "stdout",
     "output_type": "stream",
     "text": [
      "6 Z. Shen et al.\n",
      "Fig. 2: The relationship between the three types of layout data structures.\n",
      "Coordinate supports three kinds of variation; TextBlock consists of the co-\n",
      "ordinate information and extra features like block text, types, and reading orders;\n",
      "a Layout object is a list of all possible layout elements, including other Layout\n",
      "objects. They all support the same set of transformation and operation APIs for\n",
      "maximum ﬂexibility.\n",
      "Shown in Table 1, LayoutParser currently hosts 9 pre-trained models trained\n",
      "on 5 diﬀerent datasets. Description of the training dataset is provided alongside\n",
      "with the trained models such that users can quickly identify the most suitable\n",
      "models for their tasks. Additionally, when such a model is not readily available,\n",
      "LayoutParser also supports training customized layout models and community\n",
      "sharing of the models (detailed in Section 3.5).\n",
      "3.2 Layout Data Structures\n",
      "A critical feature of LayoutParser is the implementation of a series of data\n",
      "structures and operations that can be used to eﬃciently process and manipulate\n",
      "the layout elements. In document image analysis pipelines, various post-processing\n",
      "on the layout analysis model outputs is usually required to obtain the ﬁnal\n",
      "outputs. Traditionally, this requires exporting DL model outputs and then loading\n",
      "the results into other pipelines. All model outputs from LayoutParser will be\n",
      "stored in carefully engineered data types optimized for further processing, which\n",
      "makes it possible to build an end-to-end document digitization pipeline within\n",
      "LayoutParser. There are three key components in the data structure, namely\n",
      "the Coordinate system, the TextBlock, and the Layout. They provide diﬀerent\n",
      "levels of abstraction for the layout data, and a set of APIs are supported for\n",
      "transformations or operations on these classes.\n",
      "\n",
      "\n",
      "\n",
      "<img alt=\"Coordinate\n",
      "(x1, y1)\n",
      "(X1, y1)\n",
      "(x2,y2)\n",
      "APIS\n",
      "x-interval\n",
      "tart\n",
      "end\n",
      "Quadrilateral\n",
      "operation\n",
      "Rectangle\n",
      "y-interval\n",
      "ena\n",
      "(x2, y2)\n",
      "(x4, y4)\n",
      "(x3, y3)\n",
      "and\n",
      "textblock\n",
      "Coordinate\n",
      "transformation\n",
      "+\n",
      "Block\n",
      "Block\n",
      "Reading\n",
      "Extra features\n",
      "Text\n",
      "Type\n",
      "Order\n",
      "coordinatel\n",
      "textblockl\n",
      "layout\n",
      " same\n",
      "textblock2\n",
      "layoutl\n",
      "The\n",
      "A list of the layout elements\" />\n"
     ]
    }
   ],
   "execution_count": 12
  },
  {
   "metadata": {},
   "cell_type": "markdown",
   "source": "*RapidOCR is designed to work with Chinese and English, not other languages. Since the implementation uses a function rather than a method, it’s not possible to modify it. We have modified the various parsers to allow for selecting other algorithm to analyze images. Now, it’s possible to also use Tesseract, or invoke a multimodal LLM to get a description of the image.*"
  },
  {
   "metadata": {},
   "cell_type": "markdown",
   "source": "## Extract images from the PDF in *text* format (can also be *html* or *markdown*) with tesseract: "
  },
  {
   "metadata": {
    "ExecuteTime": {
     "end_time": "2024-12-11T15:13:42.516107Z",
     "start_time": "2024-12-11T15:13:41.302750Z"
    }
   },
   "cell_type": "code",
   "source": "%pip install -qU pytesseract",
   "outputs": [
    {
     "name": "stdout",
     "output_type": "stream",
     "text": [
      "Note: you may need to restart the kernel to use updated packages.\n"
     ]
    }
   ],
   "execution_count": 13
  },
  {
   "metadata": {
    "ExecuteTime": {
     "end_time": "2024-12-11T15:13:52.553611Z",
     "start_time": "2024-12-11T15:13:42.527486Z"
    }
   },
   "cell_type": "code",
   "source": [
    "from patch_langchain_community.document_loaders.parsers.pdf import (\n",
    "    convert_images_to_text_with_tesseract,\n",
    ")\n",
    "\n",
    "loader = PyPDFLoader(\n",
    "    \"./example_data/layout-parser-paper.pdf\",\n",
    "    mode=\"page\",\n",
    "    extract_images=True,\n",
    "    images_to_text=convert_images_to_text_with_tesseract(format=\"text\"),\n",
    ")\n",
    "docs = loader.load()\n",
    "print(docs[5].page_content)"
   ],
   "outputs": [
    {
     "name": "stdout",
     "output_type": "stream",
     "text": [
      "6 Z. Shen et al.\n",
      "Fig. 2: The relationship between the three types of layout data structures.\n",
      "Coordinate supports three kinds of variation; TextBlock consists of the co-\n",
      "ordinate information and extra features like block text, types, and reading orders;\n",
      "a Layout object is a list of all possible layout elements, including other Layout\n",
      "objects. They all support the same set of transformation and operation APIs for\n",
      "maximum ﬂexibility.\n",
      "Shown in Table 1, LayoutParser currently hosts 9 pre-trained models trained\n",
      "on 5 diﬀerent datasets. Description of the training dataset is provided alongside\n",
      "with the trained models such that users can quickly identify the most suitable\n",
      "models for their tasks. Additionally, when such a model is not readily available,\n",
      "LayoutParser also supports training customized layout models and community\n",
      "sharing of the models (detailed in Section 3.5).\n",
      "3.2 Layout Data Structures\n",
      "A critical feature of LayoutParser is the implementation of a series of data\n",
      "structures and operations that can be used to eﬃciently process and manipulate\n",
      "the layout elements. In document image analysis pipelines, various post-processing\n",
      "on the layout analysis model outputs is usually required to obtain the ﬁnal\n",
      "outputs. Traditionally, this requires exporting DL model outputs and then loading\n",
      "the results into other pipelines. All model outputs from LayoutParser will be\n",
      "stored in carefully engineered data types optimized for further processing, which\n",
      "makes it possible to build an end-to-end document digitization pipeline within\n",
      "LayoutParser. There are three key components in the data structure, namely\n",
      "the Coordinate system, the TextBlock, and the Layout. They provide diﬀerent\n",
      "levels of abstraction for the layout data, and a set of APIs are supported for\n",
      "transformations or operations on these classes.\n",
      "\n",
      "\n",
      "\n",
      "Coordinate\n",
      "\n",
      "textblock\n",
      "\n",
      "x-interval\n",
      "\n",
      " \n",
      "\n",
      "JeAsaqul-A\n",
      "\n",
      "Coordinate\n",
      "+\n",
      "\n",
      "Extra features\n",
      "\n",
      "Rectangle\n",
      "\n",
      "Quadrilateral\n",
      "\n",
      " \n",
      "\n",
      "Block\n",
      "Text\n",
      "\n",
      " \n",
      "\n",
      " \n",
      "\n",
      " \n",
      "\n",
      "Block\n",
      "Type\n",
      "\n",
      " \n",
      "\n",
      " \n",
      "\n",
      "Reading\n",
      "Order\n",
      "\n",
      " \n",
      "\n",
      " \n",
      "\n",
      "layout\n",
      "\n",
      "[ coordinatel textblock1 |\n",
      "'\n",
      "\n",
      "“y textblock2 , layout1 ]\n",
      "\n",
      "A list of the layout elements\n",
      "\n",
      "The same transformation and operation APIs\n"
     ]
    }
   ],
   "execution_count": 14
  },
  {
   "metadata": {},
   "cell_type": "markdown",
   "source": "## Extract images from the PDF in *markdown* format (can also be *html* or *text*) with vision model: "
  },
  {
   "metadata": {
    "ExecuteTime": {
     "end_time": "2024-12-11T15:13:54.027132Z",
     "start_time": "2024-12-11T15:13:52.704126Z"
    }
   },
   "cell_type": "code",
   "source": "%pip install -qU langchain_openai",
   "outputs": [
    {
     "name": "stdout",
     "output_type": "stream",
     "text": [
      "Note: you may need to restart the kernel to use updated packages.\n"
     ]
    }
   ],
   "execution_count": 15
  },
  {
   "metadata": {
    "ExecuteTime": {
     "end_time": "2024-12-11T15:13:54.148353Z",
     "start_time": "2024-12-11T15:13:54.126345Z"
    }
   },
   "cell_type": "code",
   "source": [
    "import os\n",
    "from dotenv import load_dotenv\n",
    "\n",
    "# Charger les variables d'environnement à partir du fichier .env\n",
    "load_dotenv()"
   ],
   "outputs": [
    {
     "data": {
      "text/plain": [
       "True"
      ]
     },
     "execution_count": 16,
     "metadata": {},
     "output_type": "execute_result"
    }
   ],
   "execution_count": 16
  },
  {
   "metadata": {
    "ExecuteTime": {
     "end_time": "2024-12-11T15:13:54.271231Z",
     "start_time": "2024-12-11T15:13:54.266042Z"
    }
   },
   "cell_type": "code",
   "source": [
    "from getpass import getpass\n",
    "\n",
    "if not os.environ.get(\"OPENAI_API_KEY\"):\n",
    "    os.environ[\"OPENAI_API_KEY\"] = getpass(\"OpenAI API key =\")"
   ],
   "outputs": [],
   "execution_count": 17
  },
  {
   "metadata": {
    "ExecuteTime": {
     "end_time": "2024-12-11T15:14:34.414968Z",
     "start_time": "2024-12-11T15:13:54.316007Z"
    }
   },
   "cell_type": "code",
   "source": [
    "from langchain_openai import ChatOpenAI\n",
    "from patch_langchain_community.document_loaders.parsers.pdf import (\n",
    "    convert_images_to_description,\n",
    ")\n",
    "\n",
    "loader = PyPDFLoader(\n",
    "    \"./example_data/layout-parser-paper.pdf\",\n",
    "    mode=\"page\",\n",
    "    extract_images=True,\n",
    "    images_to_text=convert_images_to_description(\n",
    "        model=ChatOpenAI(model=\"gpt-4o\", max_tokens=1024), format=\"markdown\"\n",
    "    ),\n",
    ")\n",
    "docs = loader.load()\n",
    "print(docs[5].page_content)"
   ],
   "outputs": [
    {
     "name": "stdout",
     "output_type": "stream",
     "text": [
      "6 Z. Shen et al.\n",
      "Fig. 2: The relationship between the three types of layout data structures.\n",
      "Coordinate supports three kinds of variation; TextBlock consists of the co-\n",
      "ordinate information and extra features like block text, types, and reading orders;\n",
      "a Layout object is a list of all possible layout elements, including other Layout\n",
      "objects. They all support the same set of transformation and operation APIs for\n",
      "maximum ﬂexibility.\n",
      "Shown in Table 1, LayoutParser currently hosts 9 pre-trained models trained\n",
      "on 5 diﬀerent datasets. Description of the training dataset is provided alongside\n",
      "with the trained models such that users can quickly identify the most suitable\n",
      "models for their tasks. Additionally, when such a model is not readily available,\n",
      "LayoutParser also supports training customized layout models and community\n",
      "sharing of the models (detailed in Section 3.5).\n",
      "3.2 Layout Data Structures\n",
      "A critical feature of LayoutParser is the implementation of a series of data\n",
      "structures and operations that can be used to eﬃciently process and manipulate\n",
      "the layout elements. In document image analysis pipelines, various post-processing\n",
      "on the layout analysis model outputs is usually required to obtain the ﬁnal\n",
      "outputs. Traditionally, this requires exporting DL model outputs and then loading\n",
      "the results into other pipelines. All model outputs from LayoutParser will be\n",
      "stored in carefully engineered data types optimized for further processing, which\n",
      "makes it possible to build an end-to-end document digitization pipeline within\n",
      "LayoutParser. There are three key components in the data structure, namely\n",
      "the Coordinate system, the TextBlock, and the Layout. They provide diﬀerent\n",
      "levels of abstraction for the layout data, and a set of APIs are supported for\n",
      "transformations or operations on these classes.\n",
      "\n",
      "\n",
      "\n",
      "![Summary: The image illustrates a hierarchical structure for layout elements used in transformation and operation APIs. It features diagrams of coordinates, rectangles, and quadrilaterals, and outlines components such as text blocks and layouts with coordinates and extra features like block text, type, and reading order.\n",
      "\n",
      "Extracted Text:\n",
      "- Coordinate\n",
      "- x-interval\n",
      "- y-interval\n",
      "- Rectangle\n",
      "- Quadrilateral\n",
      "- textblock\n",
      "- Coordinate\n",
      "- Extra features\n",
      "- Block Text\n",
      "- Block Type\n",
      "- Reading Order\n",
      "- layout\n",
      "- coordinate1\n",
      "- textblock1\n",
      "- textblock2\n",
      "- layout1\n",
      "- A list of the layout elements\n",
      "- The same transformation and operation APIs](.)\n"
     ]
    }
   ],
   "execution_count": 18
  },
  {
   "cell_type": "markdown",
   "metadata": {},
   "source": [
    "## API reference\n",
    "\n",
    "For detailed documentation of all `PyPDFLoader` features and configurations head to the API reference: https://python.langchain.com/api_reference/community/document_loaders/langchain_community.document_loaders.pdf.PyPDFLoader.html"
   ]
  }
 ],
 "metadata": {
  "kernelspec": {
   "display_name": "Python 3 (ipykernel)",
   "language": "python",
   "name": "python3"
  },
  "language_info": {
   "codemirror_mode": {
    "name": "ipython",
    "version": 3
   },
   "file_extension": ".py",
   "mimetype": "text/x-python",
   "name": "python",
   "nbconvert_exporter": "python",
   "pygments_lexer": "ipython3",
   "version": "3.10.1"
  }
 },
 "nbformat": 4,
 "nbformat_minor": 4
}
