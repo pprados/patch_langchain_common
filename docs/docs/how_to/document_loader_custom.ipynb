{
 "cells": [
  {
   "cell_type": "raw",
   "id": "c5990f4f-4430-4bbb-8d25-9703d7d8e95c",
   "metadata": {},
   "source": [
    "---\n",
    "title: Custom Document Loader\n",
    "sidebar_position: 10\n",
    "---"
   ]
  },
  {
   "cell_type": "markdown",
   "id": "4be0aa7c-aee3-4e11-b7f4-059611ab8626",
   "metadata": {},
   "source": [
    "# How to create a custom Document Loader\n",
    "\n",
    "## Overview\n",
    "\n",
    "\n",
    "Applications based on LLMs frequently entail extracting data from databases or files, like PDFs, and converting it into a format that LLMs can utilize. In LangChain, this usually involves creating Document objects, which encapsulate the extracted text (`page_content`) along with metadata—a dictionary containing details about the document, such as the author's name or the date of publication.\n",
    "\n",
    "`Document` objects are often formatted into prompts that are fed into an LLM, allowing the LLM to use the information in the `Document` to generate a desired response (e.g., summarizing the document).\n",
    "`Documents` can be either used immediately or indexed into a vectorstore for future retrieval and use.\n",
    "\n",
    "The main abstractions for Document Loading are:\n",
    "\n",
    "\n",
    "| Component      | Description                    |\n",
    "|----------------|--------------------------------|\n",
    "| Document       | Contains `text` and `metadata` |\n",
    "| BaseLoader     | Use to convert raw data into `Documents`  |\n",
    "| Blob           | A representation of binary data that's located either in a file or in memory |\n",
    "| BaseBlobParser | Logic to parse a `Blob` to yield `Document` objects |\n",
    "\n",
    "This guide will demonstrate how to write custom document loading and file parsing logic; specifically, we'll see how to:\n",
    "\n",
    "1. Create a standard document Loader by sub-classing from `BaseLoader`.\n",
    "2. Create a parser using  `BaseBlobParser` and use it in conjunction with `Blob` and `BlobLoaders`. This is useful primarily when working with files."
   ]
  },
  {
   "cell_type": "markdown",
   "id": "20dc4c18-accc-4009-805c-961f3e8dc50a",
   "metadata": {},
   "source": [
    "## Standard Document Loader\n",
    "\n",
    "A document loader can be implemented by sub-classing from a `BaseLoader` which provides a standard interface for loading documents.\n",
    "\n",
    "### Interface \n",
    "\n",
    "| Method Name | Explanation |\n",
    "|-------------|-------------|\n",
    "| lazy_load   | Used to load documents one by one **lazily**. Use for production code. |\n",
    "| alazy_load  | Async variant of `lazy_load` |\n",
    "| load        | Used to load all the documents into memory **eagerly**. Use for prototyping or interactive work. |\n",
    "| aload       | Used to load all the documents into memory **eagerly**. Use for prototyping or interactive work. **Added in 2024-04 to LangChain.** |\n",
    "\n",
    "* The `load` methods is a convenience method meant solely for prototyping work -- it just invokes `list(self.lazy_load())`.\n",
    "* The `alazy_load` has a default implementation that will delegate to `lazy_load`. If you're using async, we recommend overriding the default implementation and providing a native async implementation.\n",
    "\n",
    ":::important\n",
    "When implementing a document loader do **NOT** provide parameters via the `lazy_load` or `alazy_load` methods.\n",
    "\n",
    "All configuration is expected to be passed through the initializer (__init__). This was a design choice made by LangChain to make sure that once a document loader has been instantiated it has all the information needed to load documents.\n",
    ":::"
   ]
  },
  {
   "metadata": {},
   "cell_type": "markdown",
   "source": [
    "### Installation\n",
    "\n",
    "Install **langchain-core** and **langchain_community**."
   ],
   "id": "520edbbabde7df6e"
  },
  {
   "metadata": {},
   "cell_type": "code",
   "outputs": [],
   "execution_count": null,
   "source": "%pip install -qqU langchain_core langchain_community",
   "id": "58ba495427205dde"
  },
  {
   "metadata": {},
   "cell_type": "markdown",
   "source": [
    "### Implementation\n",
    "\n",
    "Let's create an example of a standard document loader that loads a file and creates a document from each line in the file."
   ],
   "id": "a93f17a87d323bdd"
  },
  {
   "cell_type": "code",
   "id": "20f128c1-1a2c-43b9-9e7b-cf9b3a86d1db",
   "metadata": {
    "tags": [],
    "ExecuteTime": {
     "end_time": "2024-12-04T14:47:18.134084Z",
     "start_time": "2024-12-04T14:47:17.673645Z"
    }
   },
   "source": [
    "from typing import AsyncIterator, Iterator\n",
    "\n",
    "from langchain_core.document_loaders import BaseLoader\n",
    "from langchain_core.documents import Document\n",
    "\n",
    "\n",
    "class CustomDocumentLoader(BaseLoader):\n",
    "    \"\"\"An example document loader that reads a file line by line.\"\"\"\n",
    "\n",
    "    def __init__(self, file_path: str) -> None:\n",
    "        \"\"\"Initialize the loader with a file path.\n",
    "\n",
    "        Args:\n",
    "            file_path: The path to the file to load.\n",
    "        \"\"\"\n",
    "        self.file_path = file_path\n",
    "\n",
    "    def lazy_load(self) -> Iterator[Document]:  # <-- Does not take any arguments\n",
    "        \"\"\"A lazy loader that reads a file line by line.\n",
    "\n",
    "        When you're implementing lazy load methods, you should use a generator\n",
    "        to yield documents one by one.\n",
    "        \"\"\"\n",
    "        with open(self.file_path, encoding=\"utf-8\") as f:\n",
    "            line_number = 0\n",
    "            for line in f:\n",
    "                yield Document(\n",
    "                    page_content=line,\n",
    "                    metadata={\"line_number\": line_number, \"source\": self.file_path},\n",
    "                )\n",
    "                line_number += 1\n",
    "\n",
    "    # alazy_load is OPTIONAL.\n",
    "    # If you leave out the implementation, a default implementation which delegates to lazy_load will be used!\n",
    "    async def alazy_load(\n",
    "        self,\n",
    "    ) -> AsyncIterator[Document]:  # <-- Does not take any arguments\n",
    "        \"\"\"An async lazy loader that reads a file line by line.\"\"\"\n",
    "        # Requires aiofiles\n",
    "        # Install with `pip install aiofiles`\n",
    "        # https://github.com/Tinche/aiofiles\n",
    "        import aiofiles\n",
    "\n",
    "        async with aiofiles.open(self.file_path, encoding=\"utf-8\") as f:\n",
    "            line_number = 0\n",
    "            async for line in f:\n",
    "                yield Document(\n",
    "                    page_content=line,\n",
    "                    metadata={\"line_number\": line_number, \"source\": self.file_path},\n",
    "                )\n",
    "                line_number += 1"
   ],
   "outputs": [],
   "execution_count": 1
  },
  {
   "cell_type": "markdown",
   "id": "eb845512-3d46-44fa-a4c6-ff723533abbe",
   "metadata": {
    "tags": []
   },
   "source": [
    "### Test 🧪\n",
    "\n",
    "\n",
    "To test out the document loader, we need a file with some quality content."
   ]
  },
  {
   "cell_type": "code",
   "id": "b1751198-c6dd-4149-95bd-6370ce8fa06f",
   "metadata": {
    "tags": [],
    "ExecuteTime": {
     "end_time": "2024-12-04T14:47:18.146670Z",
     "start_time": "2024-12-04T14:47:18.142846Z"
    }
   },
   "source": [
    "with open(\"./meow.txt\", \"w\", encoding=\"utf-8\") as f:\n",
    "    quality_content = \"meow meow🐱 \\n meow meow🐱 \\n meow😻😻\"\n",
    "    f.write(quality_content)\n",
    "\n",
    "loader = CustomDocumentLoader(\"./meow.txt\")"
   ],
   "outputs": [],
   "execution_count": 2
  },
  {
   "metadata": {},
   "cell_type": "code",
   "outputs": [],
   "execution_count": null,
   "source": "%pip install -q aiofiles",
   "id": "31aaedb9c0587c21"
  },
  {
   "cell_type": "code",
   "id": "71ef1482-f9de-4852-b5a4-0938f350612e",
   "metadata": {
    "tags": [],
    "ExecuteTime": {
     "end_time": "2024-12-04T14:47:18.300287Z",
     "start_time": "2024-12-04T14:47:18.297288Z"
    }
   },
   "source": [
    "## Test out the lazy load interface\n",
    "for doc in loader.lazy_load():\n",
    "    print()\n",
    "    print(type(doc))\n",
    "    print(doc)"
   ],
   "outputs": [
    {
     "name": "stdout",
     "output_type": "stream",
     "text": [
      "\n",
      "<class 'langchain_core.documents.base.Document'>\n",
      "page_content='meow meow🐱 \n",
      "' metadata={'line_number': 0, 'source': './meow.txt'}\n",
      "\n",
      "<class 'langchain_core.documents.base.Document'>\n",
      "page_content=' meow meow🐱 \n",
      "' metadata={'line_number': 1, 'source': './meow.txt'}\n",
      "\n",
      "<class 'langchain_core.documents.base.Document'>\n",
      "page_content=' meow😻😻' metadata={'line_number': 2, 'source': './meow.txt'}\n"
     ]
    }
   ],
   "execution_count": 3
  },
  {
   "cell_type": "code",
   "id": "1588e78c-e81a-4d40-b36c-634242c84a6a",
   "metadata": {
    "tags": [],
    "ExecuteTime": {
     "end_time": "2024-12-04T14:47:18.364698Z",
     "start_time": "2024-12-04T14:47:18.355603Z"
    }
   },
   "source": [
    "## Test out the async implementation\n",
    "async for doc in loader.alazy_load():\n",
    "    print()\n",
    "    print(type(doc))\n",
    "    print(doc)"
   ],
   "outputs": [
    {
     "name": "stdout",
     "output_type": "stream",
     "text": [
      "\n",
      "<class 'langchain_core.documents.base.Document'>\n",
      "page_content='meow meow🐱 \n",
      "' metadata={'line_number': 0, 'source': './meow.txt'}\n",
      "\n",
      "<class 'langchain_core.documents.base.Document'>\n",
      "page_content=' meow meow🐱 \n",
      "' metadata={'line_number': 1, 'source': './meow.txt'}\n",
      "\n",
      "<class 'langchain_core.documents.base.Document'>\n",
      "page_content=' meow😻😻' metadata={'line_number': 2, 'source': './meow.txt'}\n"
     ]
    }
   ],
   "execution_count": 4
  },
  {
   "cell_type": "markdown",
   "id": "56cb443e-f987-4386-b4ec-975ee129adb2",
   "metadata": {},
   "source": [
    ":::tip\n",
    "\n",
    "`load()` can be helpful in an interactive environment such as a jupyter notebook.\n",
    "\n",
    "Avoid using it for production code since eager loading assumes that all the content\n",
    "can fit into memory, which is not always the case, especially for enterprise data.\n",
    ":::"
   ]
  },
  {
   "cell_type": "code",
   "id": "df5ad46a-9e00-4073-8505-489fc4f3799e",
   "metadata": {
    "tags": [],
    "ExecuteTime": {
     "end_time": "2024-12-04T14:47:18.423301Z",
     "start_time": "2024-12-04T14:47:18.416034Z"
    }
   },
   "source": [
    "loader.load()"
   ],
   "outputs": [
    {
     "data": {
      "text/plain": [
       "[Document(metadata={'line_number': 0, 'source': './meow.txt'}, page_content='meow meow🐱 \\n'),\n",
       " Document(metadata={'line_number': 1, 'source': './meow.txt'}, page_content=' meow meow🐱 \\n'),\n",
       " Document(metadata={'line_number': 2, 'source': './meow.txt'}, page_content=' meow😻😻')]"
      ]
     },
     "execution_count": 5,
     "metadata": {},
     "output_type": "execute_result"
    }
   ],
   "execution_count": 5
  },
  {
   "cell_type": "markdown",
   "id": "639fe87c-b65f-4bef-8fe2-d10be85589f4",
   "metadata": {},
   "source": [
    "## Working with Files\n",
    "\n",
    "Many document loaders involve parsing files. The difference between such loaders usually stems from how the file is parsed, rather than how the file is loaded. For example, you can use `open` to read the binary content of either a PDF or a markdown file, but you need different parsing logic to convert that binary data into text.\n",
    "\n",
    "As a result, it can be helpful to decouple the parsing logic from the loading logic, which makes it easier to re-use a given parser regardless of how the data was loaded.\n",
    "\n",
    "### BaseBlobParser\n",
    "\n",
    "A `BaseBlobParser` is an interface that accepts a `blob` and outputs a list of `Document` objects. A `blob` is a representation of data that lives either in memory or in a file. LangChain python has a `Blob` primitive which is inspired by the [Blob WebAPI spec](https://developer.mozilla.org/en-US/docs/Web/API/Blob)."
   ]
  },
  {
   "cell_type": "code",
   "id": "209f6a91-2f15-4cb2-9237-f79fc9493b82",
   "metadata": {
    "tags": [],
    "ExecuteTime": {
     "end_time": "2024-12-04T14:47:18.482123Z",
     "start_time": "2024-12-04T14:47:18.478469Z"
    }
   },
   "source": [
    "from langchain_core.document_loaders import BaseBlobParser, Blob\n",
    "\n",
    "\n",
    "class MyParser(BaseBlobParser):\n",
    "    \"\"\"A simple parser that creates a document from each line.\"\"\"\n",
    "\n",
    "    def lazy_parse(self, blob: Blob) -> Iterator[Document]:\n",
    "        \"\"\"Parse a blob into a document line by line.\"\"\"\n",
    "        line_number = 0\n",
    "        with blob.as_bytes_io() as f:\n",
    "            for line in f:\n",
    "                line_number += 1\n",
    "                yield Document(\n",
    "                    page_content=line,\n",
    "                    metadata={\"line_number\": line_number, \"source\": blob.source},\n",
    "                )"
   ],
   "outputs": [],
   "execution_count": 6
  },
  {
   "cell_type": "code",
   "id": "b1275c59-06d4-458f-abd2-fcbad0bde442",
   "metadata": {
    "tags": [],
    "ExecuteTime": {
     "end_time": "2024-12-04T14:47:18.531060Z",
     "start_time": "2024-12-04T14:47:18.525851Z"
    }
   },
   "source": [
    "blob = Blob.from_path(\"./meow.txt\")\n",
    "parser = MyParser()"
   ],
   "outputs": [],
   "execution_count": 7
  },
  {
   "cell_type": "code",
   "id": "56a3d707-2086-413b-ae82-50e92ddb27f6",
   "metadata": {
    "tags": [],
    "ExecuteTime": {
     "end_time": "2024-12-04T14:47:18.586407Z",
     "start_time": "2024-12-04T14:47:18.581807Z"
    }
   },
   "source": [
    "list(parser.lazy_parse(blob))"
   ],
   "outputs": [
    {
     "data": {
      "text/plain": [
       "[Document(metadata={'line_number': 1, 'source': './meow.txt'}, page_content='meow meow🐱 \\n'),\n",
       " Document(metadata={'line_number': 2, 'source': './meow.txt'}, page_content=' meow meow🐱 \\n'),\n",
       " Document(metadata={'line_number': 3, 'source': './meow.txt'}, page_content=' meow😻😻')]"
      ]
     },
     "execution_count": 8,
     "metadata": {},
     "output_type": "execute_result"
    }
   ],
   "execution_count": 8
  },
  {
   "cell_type": "markdown",
   "id": "433bfb7c-7767-43bc-b71e-42413d7494a8",
   "metadata": {},
   "source": [
    "Using the **blob** API also allows one to load content directly from memory without having to read it from a file!"
   ]
  },
  {
   "cell_type": "code",
   "id": "20d03092-ba35-47d7-b612-9d1631c261cd",
   "metadata": {
    "tags": [],
    "ExecuteTime": {
     "end_time": "2024-12-04T14:47:18.648010Z",
     "start_time": "2024-12-04T14:47:18.642620Z"
    }
   },
   "source": [
    "blob = Blob(data=b\"some data from memory\\nmeow\")\n",
    "list(parser.lazy_parse(blob))"
   ],
   "outputs": [
    {
     "data": {
      "text/plain": [
       "[Document(metadata={'line_number': 1, 'source': None}, page_content='some data from memory\\n'),\n",
       " Document(metadata={'line_number': 2, 'source': None}, page_content='meow')]"
      ]
     },
     "execution_count": 9,
     "metadata": {},
     "output_type": "execute_result"
    }
   ],
   "execution_count": 9
  },
  {
   "cell_type": "markdown",
   "id": "d401c5e9-32cc-41e2-973f-c70d1cd3ba76",
   "metadata": {},
   "source": [
    "### Blob\n",
    "\n",
    "Let's take a quick look through some of the Blob API."
   ]
  },
  {
   "cell_type": "code",
   "id": "a9e92e0e-c8da-401c-b8c6-f0676004cf58",
   "metadata": {
    "tags": [],
    "ExecuteTime": {
     "end_time": "2024-12-04T14:47:18.700918Z",
     "start_time": "2024-12-04T14:47:18.698186Z"
    }
   },
   "source": [
    "blob = Blob.from_path(\"./meow.txt\", metadata={\"foo\": \"bar\"})"
   ],
   "outputs": [],
   "execution_count": 10
  },
  {
   "cell_type": "code",
   "id": "6b559d30-8b0c-4e45-86b1-e4602d9aaa7e",
   "metadata": {
    "tags": [],
    "ExecuteTime": {
     "end_time": "2024-12-04T14:47:18.755054Z",
     "start_time": "2024-12-04T14:47:18.751290Z"
    }
   },
   "source": [
    "blob.encoding"
   ],
   "outputs": [
    {
     "data": {
      "text/plain": [
       "'utf-8'"
      ]
     },
     "execution_count": 11,
     "metadata": {},
     "output_type": "execute_result"
    }
   ],
   "execution_count": 11
  },
  {
   "cell_type": "code",
   "id": "2f7b145a-9c6f-47f9-9487-1f4b25aff46f",
   "metadata": {
    "tags": [],
    "ExecuteTime": {
     "end_time": "2024-12-04T14:47:18.815391Z",
     "start_time": "2024-12-04T14:47:18.811107Z"
    }
   },
   "source": [
    "blob.as_bytes()"
   ],
   "outputs": [
    {
     "data": {
      "text/plain": [
       "b'meow meow\\xf0\\x9f\\x90\\xb1 \\n meow meow\\xf0\\x9f\\x90\\xb1 \\n meow\\xf0\\x9f\\x98\\xbb\\xf0\\x9f\\x98\\xbb'"
      ]
     },
     "execution_count": 12,
     "metadata": {},
     "output_type": "execute_result"
    }
   ],
   "execution_count": 12
  },
  {
   "cell_type": "code",
   "id": "9b9482fa-c49c-42cd-a2ef-80bc93214631",
   "metadata": {
    "tags": [],
    "ExecuteTime": {
     "end_time": "2024-12-04T14:47:18.874818Z",
     "start_time": "2024-12-04T14:47:18.870403Z"
    }
   },
   "source": [
    "blob.as_string()"
   ],
   "outputs": [
    {
     "data": {
      "text/plain": [
       "'meow meow🐱 \\n meow meow🐱 \\n meow😻😻'"
      ]
     },
     "execution_count": 13,
     "metadata": {},
     "output_type": "execute_result"
    }
   ],
   "execution_count": 13
  },
  {
   "cell_type": "code",
   "id": "04cc7a81-290e-4ef8-b7e1-d885fcc59ece",
   "metadata": {
    "tags": [],
    "ExecuteTime": {
     "end_time": "2024-12-04T14:47:18.931239Z",
     "start_time": "2024-12-04T14:47:18.927846Z"
    }
   },
   "source": [
    "blob.as_bytes_io()"
   ],
   "outputs": [
    {
     "data": {
      "text/plain": [
       "<contextlib._GeneratorContextManager at 0x7f89cf9336d0>"
      ]
     },
     "execution_count": 14,
     "metadata": {},
     "output_type": "execute_result"
    }
   ],
   "execution_count": 14
  },
  {
   "cell_type": "code",
   "id": "ec8de0ab-51d7-4e41-82c9-3ce0a6fdc2cd",
   "metadata": {
    "tags": [],
    "ExecuteTime": {
     "end_time": "2024-12-04T14:47:18.989857Z",
     "start_time": "2024-12-04T14:47:18.986277Z"
    }
   },
   "source": [
    "blob.metadata"
   ],
   "outputs": [
    {
     "data": {
      "text/plain": [
       "{'foo': 'bar'}"
      ]
     },
     "execution_count": 15,
     "metadata": {},
     "output_type": "execute_result"
    }
   ],
   "execution_count": 15
  },
  {
   "cell_type": "code",
   "id": "19eae991-ae48-43c2-8952-7347cdb76a34",
   "metadata": {
    "tags": [],
    "ExecuteTime": {
     "end_time": "2024-12-04T14:47:19.047526Z",
     "start_time": "2024-12-04T14:47:19.043682Z"
    }
   },
   "source": [
    "blob.source"
   ],
   "outputs": [
    {
     "data": {
      "text/plain": [
       "'./meow.txt'"
      ]
     },
     "execution_count": 16,
     "metadata": {},
     "output_type": "execute_result"
    }
   ],
   "execution_count": 16
  },
  {
   "cell_type": "markdown",
   "id": "3ea67645-a367-48ce-b164-0d9f00c17370",
   "metadata": {},
   "source": [
    "### Blob Loaders\n",
    "\n",
    "While a parser encapsulates the logic needed to parse binary data into documents, *blob loaders* encapsulate the logic that's necessary to load blobs from a given storage location.\n",
    "\n",
    "A the moment, `LangChain` supports `FileSystemBlobLoader` and `CloudBlobLoader`.\n",
    "\n",
    "You can use the `FileSystemBlobLoader` to load blobs and then use the parser to parse them."
   ]
  },
  {
   "cell_type": "code",
   "id": "c093becb-2e84-4329-89e3-956a3bd765e5",
   "metadata": {
    "tags": [],
    "ExecuteTime": {
     "end_time": "2024-12-04T14:47:19.102593Z",
     "start_time": "2024-12-04T14:47:19.095340Z"
    }
   },
   "source": [
    "from langchain_community.document_loaders.blob_loaders import FileSystemBlobLoader\n",
    "\n",
    "filesystem_blob_loader = FileSystemBlobLoader(path=\".\", glob=\"*.mdx\", show_progress=True)"
   ],
   "outputs": [],
   "execution_count": 17
  },
  {
   "metadata": {},
   "cell_type": "code",
   "outputs": [],
   "execution_count": null,
   "source": "%pip install -q tqdm",
   "id": "4552945bda84a925"
  },
  {
   "cell_type": "code",
   "id": "77739dab-2a1e-4b64-8daa-fee8aa029972",
   "metadata": {
    "tags": [],
    "ExecuteTime": {
     "end_time": "2024-12-04T14:47:19.302261Z",
     "start_time": "2024-12-04T14:47:19.168818Z"
    }
   },
   "source": [
    "parser = MyParser()\n",
    "for blob in filesystem_blob_loader.yield_blobs():\n",
    "    for doc in parser.lazy_parse(blob):\n",
    "        print(doc)\n",
    "        break"
   ],
   "outputs": [
    {
     "data": {
      "text/plain": [
       "0it [00:00, ?it/s]"
      ],
      "application/vnd.jupyter.widget-view+json": {
       "version_major": 2,
       "version_minor": 0,
       "model_id": "80e5dacd8ee94bb2b83ab3e4d9bf7d24"
      }
     },
     "metadata": {},
     "output_type": "display_data"
    }
   ],
   "execution_count": 18
  },
  {
   "cell_type": "markdown",
   "id": "f016390c-d38b-4261-946d-34eefe546df7",
   "metadata": {},
   "source": "Or, you can use `CloudBlobLoader` to load blobs from a cloud storage location (Supports s3://, az://, gs://, file:// schemes)."
  },
  {
   "metadata": {},
   "cell_type": "code",
   "outputs": [],
   "execution_count": null,
   "source": "%pip install -q cloudpathlib[s3]",
   "id": "5daccbfbc9c82608"
  },
  {
   "metadata": {
    "ExecuteTime": {
     "end_time": "2024-10-15T06:46:35.095635Z",
     "start_time": "2024-10-15T06:46:30.636132Z"
    }
   },
   "cell_type": "code",
   "source": [
    "from langchain_community.document_loaders.blob_loaders import CloudBlobLoader\n",
    "\n",
    "cloud_blob_loader = CloudBlobLoader(url=\"https://ee-files.s3.amazonaws.com/files/106410/download/821953/7-http-s3.amazonaws.comrosco.pdf\", glob=\"*.pdf\", show_progress=True)\n",
    "for blob in cloud_blob_loader.yield_blobs():\n",
    "    print(blob)"
   ],
   "id": "6139b546b8c4d524",
   "outputs": [
    {
     "ename": "NoCredentialsError",
     "evalue": "Unable to locate credentials",
     "output_type": "error",
     "traceback": [
      "\u001B[0;31m---------------------------------------------------------------------------\u001B[0m",
      "\u001B[0;31mNoCredentialsError\u001B[0m                        Traceback (most recent call last)",
      "Cell \u001B[0;32mIn[21], line 4\u001B[0m\n\u001B[1;32m      1\u001B[0m \u001B[38;5;28;01mfrom\u001B[39;00m \u001B[38;5;21;01mlangchain_community\u001B[39;00m\u001B[38;5;21;01m.\u001B[39;00m\u001B[38;5;21;01mdocument_loaders\u001B[39;00m\u001B[38;5;21;01m.\u001B[39;00m\u001B[38;5;21;01mblob_loaders\u001B[39;00m \u001B[38;5;28;01mimport\u001B[39;00m CloudBlobLoader\n\u001B[1;32m      3\u001B[0m blob_loader \u001B[38;5;241m=\u001B[39m CloudBlobLoader(url\u001B[38;5;241m=\u001B[39m\u001B[38;5;124m\"\u001B[39m\u001B[38;5;124ms3://my_bucket\u001B[39m\u001B[38;5;124m\"\u001B[39m, glob\u001B[38;5;241m=\u001B[39m\u001B[38;5;124m\"\u001B[39m\u001B[38;5;124m*.mdx\u001B[39m\u001B[38;5;124m\"\u001B[39m, show_progress\u001B[38;5;241m=\u001B[39m\u001B[38;5;28;01mTrue\u001B[39;00m)\n\u001B[0;32m----> 4\u001B[0m \u001B[38;5;28;43;01mfor\u001B[39;49;00m\u001B[43m \u001B[49m\u001B[43mblob\u001B[49m\u001B[43m \u001B[49m\u001B[38;5;129;43;01min\u001B[39;49;00m\u001B[43m \u001B[49m\u001B[43mblob_loader\u001B[49m\u001B[38;5;241;43m.\u001B[39;49m\u001B[43myield_blobs\u001B[49m\u001B[43m(\u001B[49m\u001B[43m)\u001B[49m\u001B[43m:\u001B[49m\n\u001B[1;32m      5\u001B[0m \u001B[43m    \u001B[49m\u001B[38;5;28;43mprint\u001B[39;49m\u001B[43m(\u001B[49m\u001B[43mblob\u001B[49m\u001B[43m)\u001B[49m\n",
      "File \u001B[0;32m~/workspace.bda/langchain/libs/community/langchain_community/document_loaders/blob_loaders/cloud_blob_loader.py:217\u001B[0m, in \u001B[0;36mCloudBlobLoader.yield_blobs\u001B[0;34m(self)\u001B[0m\n\u001B[1;32m    212\u001B[0m \u001B[38;5;250m\u001B[39m\u001B[38;5;124;03m\"\"\"Yield blobs that match the requested pattern.\"\"\"\u001B[39;00m\n\u001B[1;32m    213\u001B[0m iterator \u001B[38;5;241m=\u001B[39m _make_iterator(\n\u001B[1;32m    214\u001B[0m     length_func\u001B[38;5;241m=\u001B[39m\u001B[38;5;28mself\u001B[39m\u001B[38;5;241m.\u001B[39mcount_matching_files, show_progress\u001B[38;5;241m=\u001B[39m\u001B[38;5;28mself\u001B[39m\u001B[38;5;241m.\u001B[39mshow_progress\n\u001B[1;32m    215\u001B[0m )\n\u001B[0;32m--> 217\u001B[0m \u001B[38;5;28;01mfor\u001B[39;00m path \u001B[38;5;129;01min\u001B[39;00m \u001B[43miterator\u001B[49m\u001B[43m(\u001B[49m\u001B[38;5;28;43mself\u001B[39;49m\u001B[38;5;241;43m.\u001B[39;49m\u001B[43m_yield_paths\u001B[49m\u001B[43m(\u001B[49m\u001B[43m)\u001B[49m\u001B[43m)\u001B[49m:\n\u001B[1;32m    218\u001B[0m     \u001B[38;5;66;03m# yield Blob.from_path(path)\u001B[39;00m\n\u001B[1;32m    219\u001B[0m     \u001B[38;5;28;01myield\u001B[39;00m \u001B[38;5;28mself\u001B[39m\u001B[38;5;241m.\u001B[39mfrom_path(path)\n",
      "File \u001B[0;32m~/workspace.bda/langchain/libs/community/langchain_community/document_loaders/blob_loaders/cloud_blob_loader.py:115\u001B[0m, in \u001B[0;36m_make_iterator.<locals>._with_tqdm\u001B[0;34m(iterable)\u001B[0m\n\u001B[1;32m    113\u001B[0m \u001B[38;5;28;01mdef\u001B[39;00m \u001B[38;5;21m_with_tqdm\u001B[39m(iterable: Iterable[T]) \u001B[38;5;241m-\u001B[39m\u001B[38;5;241m>\u001B[39m Iterator[T]:\n\u001B[1;32m    114\u001B[0m \u001B[38;5;250m    \u001B[39m\u001B[38;5;124;03m\"\"\"Wrap an iterable in a tqdm progress bar.\"\"\"\u001B[39;00m\n\u001B[0;32m--> 115\u001B[0m     \u001B[38;5;28;01mreturn\u001B[39;00m tqdm(iterable, total\u001B[38;5;241m=\u001B[39m\u001B[43mlength_func\u001B[49m\u001B[43m(\u001B[49m\u001B[43m)\u001B[49m)\n",
      "File \u001B[0;32m~/workspace.bda/langchain/libs/community/langchain_community/document_loaders/blob_loaders/cloud_blob_loader.py:242\u001B[0m, in \u001B[0;36mCloudBlobLoader.count_matching_files\u001B[0;34m(self)\u001B[0m\n\u001B[1;32m    239\u001B[0m \u001B[38;5;66;03m# Carry out a full iteration to count the files without\u001B[39;00m\n\u001B[1;32m    240\u001B[0m \u001B[38;5;66;03m# materializing anything expensive in memory.\u001B[39;00m\n\u001B[1;32m    241\u001B[0m num \u001B[38;5;241m=\u001B[39m \u001B[38;5;241m0\u001B[39m\n\u001B[0;32m--> 242\u001B[0m \u001B[43m\u001B[49m\u001B[38;5;28;43;01mfor\u001B[39;49;00m\u001B[43m \u001B[49m\u001B[43m_\u001B[49m\u001B[43m \u001B[49m\u001B[38;5;129;43;01min\u001B[39;49;00m\u001B[43m \u001B[49m\u001B[38;5;28;43mself\u001B[39;49m\u001B[38;5;241;43m.\u001B[39;49m\u001B[43m_yield_paths\u001B[49m\u001B[43m(\u001B[49m\u001B[43m)\u001B[49m\u001B[43m:\u001B[49m\n\u001B[1;32m    243\u001B[0m \u001B[43m    \u001B[49m\u001B[43mnum\u001B[49m\u001B[43m \u001B[49m\u001B[38;5;241;43m+\u001B[39;49m\u001B[38;5;241;43m=\u001B[39;49m\u001B[43m \u001B[49m\u001B[38;5;241;43m1\u001B[39;49m\n\u001B[1;32m    244\u001B[0m \u001B[38;5;28;01mreturn\u001B[39;00m num\n",
      "File \u001B[0;32m~/workspace.bda/langchain/libs/community/langchain_community/document_loaders/blob_loaders/cloud_blob_loader.py:228\u001B[0m, in \u001B[0;36mCloudBlobLoader._yield_paths\u001B[0;34m(self)\u001B[0m\n\u001B[1;32m    225\u001B[0m     \u001B[38;5;28;01mreturn\u001B[39;00m\n\u001B[1;32m    227\u001B[0m paths \u001B[38;5;241m=\u001B[39m \u001B[38;5;28mself\u001B[39m\u001B[38;5;241m.\u001B[39mpath\u001B[38;5;241m.\u001B[39mglob(\u001B[38;5;28mself\u001B[39m\u001B[38;5;241m.\u001B[39mglob)\n\u001B[0;32m--> 228\u001B[0m \u001B[43m\u001B[49m\u001B[38;5;28;43;01mfor\u001B[39;49;00m\u001B[43m \u001B[49m\u001B[43mpath\u001B[49m\u001B[43m \u001B[49m\u001B[38;5;129;43;01min\u001B[39;49;00m\u001B[43m \u001B[49m\u001B[43mpaths\u001B[49m\u001B[43m:\u001B[49m\n\u001B[1;32m    229\u001B[0m \u001B[43m    \u001B[49m\u001B[38;5;28;43;01mif\u001B[39;49;00m\u001B[43m \u001B[49m\u001B[38;5;28;43mself\u001B[39;49m\u001B[38;5;241;43m.\u001B[39;49m\u001B[43mexclude\u001B[49m\u001B[43m:\u001B[49m\n\u001B[1;32m    230\u001B[0m \u001B[43m        \u001B[49m\u001B[38;5;28;43;01mif\u001B[39;49;00m\u001B[43m \u001B[49m\u001B[38;5;28;43many\u001B[39;49m\u001B[43m(\u001B[49m\u001B[43mpath\u001B[49m\u001B[38;5;241;43m.\u001B[39;49m\u001B[43mmatch\u001B[49m\u001B[43m(\u001B[49m\u001B[43mglob\u001B[49m\u001B[43m)\u001B[49m\u001B[43m \u001B[49m\u001B[38;5;28;43;01mfor\u001B[39;49;00m\u001B[43m \u001B[49m\u001B[43mglob\u001B[49m\u001B[43m \u001B[49m\u001B[38;5;129;43;01min\u001B[39;49;00m\u001B[43m \u001B[49m\u001B[38;5;28;43mself\u001B[39;49m\u001B[38;5;241;43m.\u001B[39;49m\u001B[43mexclude\u001B[49m\u001B[43m)\u001B[49m\u001B[43m:\u001B[49m\n",
      "File \u001B[0;32m~/workspace.bda/langchain/libs/community/.venv/lib/python3.11/site-packages/cloudpathlib/cloudpath.py:500\u001B[0m, in \u001B[0;36mCloudPath.glob\u001B[0;34m(self, pattern, case_sensitive)\u001B[0m\n\u001B[1;32m    495\u001B[0m pattern_parts \u001B[38;5;241m=\u001B[39m PurePosixPath(pattern)\u001B[38;5;241m.\u001B[39mparts\n\u001B[1;32m    496\u001B[0m selector \u001B[38;5;241m=\u001B[39m _make_selector(\n\u001B[1;32m    497\u001B[0m     \u001B[38;5;28mtuple\u001B[39m(pattern_parts), _posix_flavour, case_sensitive\u001B[38;5;241m=\u001B[39mcase_sensitive\n\u001B[1;32m    498\u001B[0m )\n\u001B[0;32m--> 500\u001B[0m \u001B[38;5;28;01myield from\u001B[39;00m \u001B[38;5;28mself\u001B[39m\u001B[38;5;241m.\u001B[39m_glob(\n\u001B[1;32m    501\u001B[0m     selector,\n\u001B[1;32m    502\u001B[0m     \u001B[38;5;124m\"\u001B[39m\u001B[38;5;124m/\u001B[39m\u001B[38;5;124m\"\u001B[39m \u001B[38;5;129;01min\u001B[39;00m pattern\n\u001B[1;32m    503\u001B[0m     \u001B[38;5;129;01mor\u001B[39;00m \u001B[38;5;124m\"\u001B[39m\u001B[38;5;124m**\u001B[39m\u001B[38;5;124m\"\u001B[39m\n\u001B[1;32m    504\u001B[0m     \u001B[38;5;129;01min\u001B[39;00m pattern,  \u001B[38;5;66;03m# recursive listing needed if explicit ** or any sub folder in pattern\u001B[39;00m\n\u001B[1;32m    505\u001B[0m )\n",
      "File \u001B[0;32m~/workspace.bda/langchain/libs/community/.venv/lib/python3.11/site-packages/cloudpathlib/cloudpath.py:478\u001B[0m, in \u001B[0;36mCloudPath._glob\u001B[0;34m(self, selector, recursive)\u001B[0m\n\u001B[1;32m    477\u001B[0m \u001B[38;5;28;01mdef\u001B[39;00m \u001B[38;5;21m_glob\u001B[39m(\u001B[38;5;28mself\u001B[39m, selector, recursive: \u001B[38;5;28mbool\u001B[39m) \u001B[38;5;241m-\u001B[39m\u001B[38;5;241m>\u001B[39m Generator[Self, \u001B[38;5;28;01mNone\u001B[39;00m, \u001B[38;5;28;01mNone\u001B[39;00m]:\n\u001B[0;32m--> 478\u001B[0m     file_tree \u001B[38;5;241m=\u001B[39m \u001B[38;5;28;43mself\u001B[39;49m\u001B[38;5;241;43m.\u001B[39;49m\u001B[43m_build_subtree\u001B[49m\u001B[43m(\u001B[49m\u001B[43mrecursive\u001B[49m\u001B[43m)\u001B[49m\n\u001B[1;32m    480\u001B[0m     root \u001B[38;5;241m=\u001B[39m _CloudPathSelectable(\n\u001B[1;32m    481\u001B[0m         \u001B[38;5;28mself\u001B[39m\u001B[38;5;241m.\u001B[39mname,\n\u001B[1;32m    482\u001B[0m         [],  \u001B[38;5;66;03m# nothing above self will be returned, so initial parents is empty\u001B[39;00m\n\u001B[1;32m    483\u001B[0m         file_tree,\n\u001B[1;32m    484\u001B[0m     )\n\u001B[1;32m    486\u001B[0m     \u001B[38;5;28;01mfor\u001B[39;00m p \u001B[38;5;129;01min\u001B[39;00m selector\u001B[38;5;241m.\u001B[39mselect_from(root):\n\u001B[1;32m    487\u001B[0m         \u001B[38;5;66;03m# select_from returns self.name/... so strip before joining\u001B[39;00m\n",
      "File \u001B[0;32m~/workspace.bda/langchain/libs/community/.venv/lib/python3.11/site-packages/cloudpathlib/cloudpath.py:465\u001B[0m, in \u001B[0;36mCloudPath._build_subtree\u001B[0;34m(self, recursive)\u001B[0m\n\u001B[1;32m    461\u001B[0m         _build_tree(trunk[branch], next_branch, nodes, is_dir)\n\u001B[1;32m    463\u001B[0m file_tree \u001B[38;5;241m=\u001B[39m Tree()\n\u001B[0;32m--> 465\u001B[0m \u001B[43m\u001B[49m\u001B[38;5;28;43;01mfor\u001B[39;49;00m\u001B[43m \u001B[49m\u001B[43mf\u001B[49m\u001B[43m,\u001B[49m\u001B[43m \u001B[49m\u001B[43mis_dir\u001B[49m\u001B[43m \u001B[49m\u001B[38;5;129;43;01min\u001B[39;49;00m\u001B[43m \u001B[49m\u001B[38;5;28;43mself\u001B[39;49m\u001B[38;5;241;43m.\u001B[39;49m\u001B[43mclient\u001B[49m\u001B[38;5;241;43m.\u001B[39;49m\u001B[43m_list_dir\u001B[49m\u001B[43m(\u001B[49m\u001B[38;5;28;43mself\u001B[39;49m\u001B[43m,\u001B[49m\u001B[43m \u001B[49m\u001B[43mrecursive\u001B[49m\u001B[38;5;241;43m=\u001B[39;49m\u001B[43mrecursive\u001B[49m\u001B[43m)\u001B[49m\u001B[43m:\u001B[49m\n\u001B[1;32m    466\u001B[0m \u001B[43m    \u001B[49m\u001B[43mparts\u001B[49m\u001B[43m \u001B[49m\u001B[38;5;241;43m=\u001B[39;49m\u001B[43m \u001B[49m\u001B[38;5;28;43mstr\u001B[39;49m\u001B[43m(\u001B[49m\u001B[43mf\u001B[49m\u001B[38;5;241;43m.\u001B[39;49m\u001B[43mrelative_to\u001B[49m\u001B[43m(\u001B[49m\u001B[38;5;28;43mself\u001B[39;49m\u001B[43m)\u001B[49m\u001B[43m)\u001B[49m\u001B[38;5;241;43m.\u001B[39;49m\u001B[43msplit\u001B[49m\u001B[43m(\u001B[49m\u001B[38;5;124;43m\"\u001B[39;49m\u001B[38;5;124;43m/\u001B[39;49m\u001B[38;5;124;43m\"\u001B[39;49m\u001B[43m)\u001B[49m\n\u001B[1;32m    468\u001B[0m \u001B[43m    \u001B[49m\u001B[38;5;66;43;03m# skip self\u001B[39;49;00m\n",
      "File \u001B[0;32m~/workspace.bda/langchain/libs/community/.venv/lib/python3.11/site-packages/cloudpathlib/s3/s3client.py:233\u001B[0m, in \u001B[0;36mS3Client._list_dir\u001B[0;34m(self, cloud_path, recursive)\u001B[0m\n\u001B[1;32m    229\u001B[0m yielded_dirs \u001B[38;5;241m=\u001B[39m \u001B[38;5;28mset\u001B[39m()\n\u001B[1;32m    231\u001B[0m paginator \u001B[38;5;241m=\u001B[39m \u001B[38;5;28mself\u001B[39m\u001B[38;5;241m.\u001B[39mclient\u001B[38;5;241m.\u001B[39mget_paginator(\u001B[38;5;124m\"\u001B[39m\u001B[38;5;124mlist_objects_v2\u001B[39m\u001B[38;5;124m\"\u001B[39m)\n\u001B[0;32m--> 233\u001B[0m \u001B[43m\u001B[49m\u001B[38;5;28;43;01mfor\u001B[39;49;00m\u001B[43m \u001B[49m\u001B[43mresult\u001B[49m\u001B[43m \u001B[49m\u001B[38;5;129;43;01min\u001B[39;49;00m\u001B[43m \u001B[49m\u001B[43mpaginator\u001B[49m\u001B[38;5;241;43m.\u001B[39;49m\u001B[43mpaginate\u001B[49m\u001B[43m(\u001B[49m\n\u001B[1;32m    234\u001B[0m \u001B[43m    \u001B[49m\u001B[43mBucket\u001B[49m\u001B[38;5;241;43m=\u001B[39;49m\u001B[43mcloud_path\u001B[49m\u001B[38;5;241;43m.\u001B[39;49m\u001B[43mbucket\u001B[49m\u001B[43m,\u001B[49m\n\u001B[1;32m    235\u001B[0m \u001B[43m    \u001B[49m\u001B[43mPrefix\u001B[49m\u001B[38;5;241;43m=\u001B[39;49m\u001B[43mprefix\u001B[49m\u001B[43m,\u001B[49m\n\u001B[1;32m    236\u001B[0m \u001B[43m    \u001B[49m\u001B[43mDelimiter\u001B[49m\u001B[38;5;241;43m=\u001B[39;49m\u001B[43m(\u001B[49m\u001B[38;5;124;43m\"\u001B[39;49m\u001B[38;5;124;43m\"\u001B[39;49m\u001B[43m \u001B[49m\u001B[38;5;28;43;01mif\u001B[39;49;00m\u001B[43m \u001B[49m\u001B[43mrecursive\u001B[49m\u001B[43m \u001B[49m\u001B[38;5;28;43;01melse\u001B[39;49;00m\u001B[43m \u001B[49m\u001B[38;5;124;43m\"\u001B[39;49m\u001B[38;5;124;43m/\u001B[39;49m\u001B[38;5;124;43m\"\u001B[39;49m\u001B[43m)\u001B[49m\u001B[43m,\u001B[49m\n\u001B[1;32m    237\u001B[0m \u001B[43m    \u001B[49m\u001B[38;5;241;43m*\u001B[39;49m\u001B[38;5;241;43m*\u001B[39;49m\u001B[38;5;28;43mself\u001B[39;49m\u001B[38;5;241;43m.\u001B[39;49m\u001B[43mboto3_list_extra_args\u001B[49m\u001B[43m,\u001B[49m\n\u001B[1;32m    238\u001B[0m \u001B[43m\u001B[49m\u001B[43m)\u001B[49m\u001B[43m:\u001B[49m\n\u001B[1;32m    239\u001B[0m \u001B[43m    \u001B[49m\u001B[38;5;66;43;03m# yield everything in common prefixes as directories\u001B[39;49;00m\n\u001B[1;32m    240\u001B[0m \u001B[43m    \u001B[49m\u001B[38;5;28;43;01mfor\u001B[39;49;00m\u001B[43m \u001B[49m\u001B[43mresult_prefix\u001B[49m\u001B[43m \u001B[49m\u001B[38;5;129;43;01min\u001B[39;49;00m\u001B[43m \u001B[49m\u001B[43mresult\u001B[49m\u001B[38;5;241;43m.\u001B[39;49m\u001B[43mget\u001B[49m\u001B[43m(\u001B[49m\u001B[38;5;124;43m\"\u001B[39;49m\u001B[38;5;124;43mCommonPrefixes\u001B[39;49m\u001B[38;5;124;43m\"\u001B[39;49m\u001B[43m,\u001B[49m\u001B[43m \u001B[49m\u001B[43m[\u001B[49m\u001B[43m]\u001B[49m\u001B[43m)\u001B[49m\u001B[43m:\u001B[49m\n\u001B[1;32m    241\u001B[0m \u001B[43m        \u001B[49m\u001B[43mcanonical\u001B[49m\u001B[43m \u001B[49m\u001B[38;5;241;43m=\u001B[39;49m\u001B[43m \u001B[49m\u001B[43mresult_prefix\u001B[49m\u001B[38;5;241;43m.\u001B[39;49m\u001B[43mget\u001B[49m\u001B[43m(\u001B[49m\u001B[38;5;124;43m\"\u001B[39;49m\u001B[38;5;124;43mPrefix\u001B[39;49m\u001B[38;5;124;43m\"\u001B[39;49m\u001B[43m)\u001B[49m\u001B[38;5;241;43m.\u001B[39;49m\u001B[43mrstrip\u001B[49m\u001B[43m(\u001B[49m\u001B[38;5;124;43m\"\u001B[39;49m\u001B[38;5;124;43m/\u001B[39;49m\u001B[38;5;124;43m\"\u001B[39;49m\u001B[43m)\u001B[49m\u001B[43m  \u001B[49m\u001B[38;5;66;43;03m# keep a canonical form\u001B[39;49;00m\n",
      "File \u001B[0;32m~/workspace.bda/langchain/libs/community/.venv/lib/python3.11/site-packages/botocore/paginate.py:269\u001B[0m, in \u001B[0;36mPageIterator.__iter__\u001B[0;34m(self)\u001B[0m\n\u001B[1;32m    267\u001B[0m \u001B[38;5;28mself\u001B[39m\u001B[38;5;241m.\u001B[39m_inject_starting_params(current_kwargs)\n\u001B[1;32m    268\u001B[0m \u001B[38;5;28;01mwhile\u001B[39;00m \u001B[38;5;28;01mTrue\u001B[39;00m:\n\u001B[0;32m--> 269\u001B[0m     response \u001B[38;5;241m=\u001B[39m \u001B[38;5;28;43mself\u001B[39;49m\u001B[38;5;241;43m.\u001B[39;49m\u001B[43m_make_request\u001B[49m\u001B[43m(\u001B[49m\u001B[43mcurrent_kwargs\u001B[49m\u001B[43m)\u001B[49m\n\u001B[1;32m    270\u001B[0m     parsed \u001B[38;5;241m=\u001B[39m \u001B[38;5;28mself\u001B[39m\u001B[38;5;241m.\u001B[39m_extract_parsed_response(response)\n\u001B[1;32m    271\u001B[0m     \u001B[38;5;28;01mif\u001B[39;00m first_request:\n\u001B[1;32m    272\u001B[0m         \u001B[38;5;66;03m# The first request is handled differently.  We could\u001B[39;00m\n\u001B[1;32m    273\u001B[0m         \u001B[38;5;66;03m# possibly have a resume/starting token that tells us where\u001B[39;00m\n\u001B[1;32m    274\u001B[0m         \u001B[38;5;66;03m# to index into the retrieved page.\u001B[39;00m\n",
      "File \u001B[0;32m~/workspace.bda/langchain/libs/community/.venv/lib/python3.11/site-packages/botocore/paginate.py:357\u001B[0m, in \u001B[0;36mPageIterator._make_request\u001B[0;34m(self, current_kwargs)\u001B[0m\n\u001B[1;32m    356\u001B[0m \u001B[38;5;28;01mdef\u001B[39;00m \u001B[38;5;21m_make_request\u001B[39m(\u001B[38;5;28mself\u001B[39m, current_kwargs):\n\u001B[0;32m--> 357\u001B[0m     \u001B[38;5;28;01mreturn\u001B[39;00m \u001B[38;5;28;43mself\u001B[39;49m\u001B[38;5;241;43m.\u001B[39;49m\u001B[43m_method\u001B[49m\u001B[43m(\u001B[49m\u001B[38;5;241;43m*\u001B[39;49m\u001B[38;5;241;43m*\u001B[39;49m\u001B[43mcurrent_kwargs\u001B[49m\u001B[43m)\u001B[49m\n",
      "File \u001B[0;32m~/workspace.bda/langchain/libs/community/.venv/lib/python3.11/site-packages/botocore/client.py:569\u001B[0m, in \u001B[0;36mClientCreator._create_api_method.<locals>._api_call\u001B[0;34m(self, *args, **kwargs)\u001B[0m\n\u001B[1;32m    565\u001B[0m     \u001B[38;5;28;01mraise\u001B[39;00m \u001B[38;5;167;01mTypeError\u001B[39;00m(\n\u001B[1;32m    566\u001B[0m         \u001B[38;5;124mf\u001B[39m\u001B[38;5;124m\"\u001B[39m\u001B[38;5;132;01m{\u001B[39;00mpy_operation_name\u001B[38;5;132;01m}\u001B[39;00m\u001B[38;5;124m() only accepts keyword arguments.\u001B[39m\u001B[38;5;124m\"\u001B[39m\n\u001B[1;32m    567\u001B[0m     )\n\u001B[1;32m    568\u001B[0m \u001B[38;5;66;03m# The \"self\" in this scope is referring to the BaseClient.\u001B[39;00m\n\u001B[0;32m--> 569\u001B[0m \u001B[38;5;28;01mreturn\u001B[39;00m \u001B[38;5;28;43mself\u001B[39;49m\u001B[38;5;241;43m.\u001B[39;49m\u001B[43m_make_api_call\u001B[49m\u001B[43m(\u001B[49m\u001B[43moperation_name\u001B[49m\u001B[43m,\u001B[49m\u001B[43m \u001B[49m\u001B[43mkwargs\u001B[49m\u001B[43m)\u001B[49m\n",
      "File \u001B[0;32m~/workspace.bda/langchain/libs/community/.venv/lib/python3.11/site-packages/botocore/client.py:1005\u001B[0m, in \u001B[0;36mBaseClient._make_api_call\u001B[0;34m(self, operation_name, api_params)\u001B[0m\n\u001B[1;32m   1001\u001B[0m     maybe_compress_request(\n\u001B[1;32m   1002\u001B[0m         \u001B[38;5;28mself\u001B[39m\u001B[38;5;241m.\u001B[39mmeta\u001B[38;5;241m.\u001B[39mconfig, request_dict, operation_model\n\u001B[1;32m   1003\u001B[0m     )\n\u001B[1;32m   1004\u001B[0m     apply_request_checksum(request_dict)\n\u001B[0;32m-> 1005\u001B[0m     http, parsed_response \u001B[38;5;241m=\u001B[39m \u001B[38;5;28;43mself\u001B[39;49m\u001B[38;5;241;43m.\u001B[39;49m\u001B[43m_make_request\u001B[49m\u001B[43m(\u001B[49m\n\u001B[1;32m   1006\u001B[0m \u001B[43m        \u001B[49m\u001B[43moperation_model\u001B[49m\u001B[43m,\u001B[49m\u001B[43m \u001B[49m\u001B[43mrequest_dict\u001B[49m\u001B[43m,\u001B[49m\u001B[43m \u001B[49m\u001B[43mrequest_context\u001B[49m\n\u001B[1;32m   1007\u001B[0m \u001B[43m    \u001B[49m\u001B[43m)\u001B[49m\n\u001B[1;32m   1009\u001B[0m \u001B[38;5;28mself\u001B[39m\u001B[38;5;241m.\u001B[39mmeta\u001B[38;5;241m.\u001B[39mevents\u001B[38;5;241m.\u001B[39memit(\n\u001B[1;32m   1010\u001B[0m     \u001B[38;5;124mf\u001B[39m\u001B[38;5;124m'\u001B[39m\u001B[38;5;124mafter-call.\u001B[39m\u001B[38;5;132;01m{\u001B[39;00mservice_id\u001B[38;5;132;01m}\u001B[39;00m\u001B[38;5;124m.\u001B[39m\u001B[38;5;132;01m{\u001B[39;00moperation_name\u001B[38;5;132;01m}\u001B[39;00m\u001B[38;5;124m'\u001B[39m,\n\u001B[1;32m   1011\u001B[0m     http_response\u001B[38;5;241m=\u001B[39mhttp,\n\u001B[0;32m   (...)\u001B[0m\n\u001B[1;32m   1014\u001B[0m     context\u001B[38;5;241m=\u001B[39mrequest_context,\n\u001B[1;32m   1015\u001B[0m )\n\u001B[1;32m   1017\u001B[0m \u001B[38;5;28;01mif\u001B[39;00m http\u001B[38;5;241m.\u001B[39mstatus_code \u001B[38;5;241m>\u001B[39m\u001B[38;5;241m=\u001B[39m \u001B[38;5;241m300\u001B[39m:\n",
      "File \u001B[0;32m~/workspace.bda/langchain/libs/community/.venv/lib/python3.11/site-packages/botocore/client.py:1029\u001B[0m, in \u001B[0;36mBaseClient._make_request\u001B[0;34m(self, operation_model, request_dict, request_context)\u001B[0m\n\u001B[1;32m   1027\u001B[0m \u001B[38;5;28;01mdef\u001B[39;00m \u001B[38;5;21m_make_request\u001B[39m(\u001B[38;5;28mself\u001B[39m, operation_model, request_dict, request_context):\n\u001B[1;32m   1028\u001B[0m     \u001B[38;5;28;01mtry\u001B[39;00m:\n\u001B[0;32m-> 1029\u001B[0m         \u001B[38;5;28;01mreturn\u001B[39;00m \u001B[38;5;28;43mself\u001B[39;49m\u001B[38;5;241;43m.\u001B[39;49m\u001B[43m_endpoint\u001B[49m\u001B[38;5;241;43m.\u001B[39;49m\u001B[43mmake_request\u001B[49m\u001B[43m(\u001B[49m\u001B[43moperation_model\u001B[49m\u001B[43m,\u001B[49m\u001B[43m \u001B[49m\u001B[43mrequest_dict\u001B[49m\u001B[43m)\u001B[49m\n\u001B[1;32m   1030\u001B[0m     \u001B[38;5;28;01mexcept\u001B[39;00m \u001B[38;5;167;01mException\u001B[39;00m \u001B[38;5;28;01mas\u001B[39;00m e:\n\u001B[1;32m   1031\u001B[0m         \u001B[38;5;28mself\u001B[39m\u001B[38;5;241m.\u001B[39mmeta\u001B[38;5;241m.\u001B[39mevents\u001B[38;5;241m.\u001B[39memit(\n\u001B[1;32m   1032\u001B[0m             \u001B[38;5;124mf\u001B[39m\u001B[38;5;124m'\u001B[39m\u001B[38;5;124mafter-call-error.\u001B[39m\u001B[38;5;132;01m{\u001B[39;00m\u001B[38;5;28mself\u001B[39m\u001B[38;5;241m.\u001B[39m_service_model\u001B[38;5;241m.\u001B[39mservice_id\u001B[38;5;241m.\u001B[39mhyphenize()\u001B[38;5;132;01m}\u001B[39;00m\u001B[38;5;124m.\u001B[39m\u001B[38;5;132;01m{\u001B[39;00moperation_model\u001B[38;5;241m.\u001B[39mname\u001B[38;5;132;01m}\u001B[39;00m\u001B[38;5;124m'\u001B[39m,\n\u001B[1;32m   1033\u001B[0m             exception\u001B[38;5;241m=\u001B[39me,\n\u001B[1;32m   1034\u001B[0m             context\u001B[38;5;241m=\u001B[39mrequest_context,\n\u001B[1;32m   1035\u001B[0m         )\n",
      "File \u001B[0;32m~/workspace.bda/langchain/libs/community/.venv/lib/python3.11/site-packages/botocore/endpoint.py:119\u001B[0m, in \u001B[0;36mEndpoint.make_request\u001B[0;34m(self, operation_model, request_dict)\u001B[0m\n\u001B[1;32m    113\u001B[0m \u001B[38;5;28;01mdef\u001B[39;00m \u001B[38;5;21mmake_request\u001B[39m(\u001B[38;5;28mself\u001B[39m, operation_model, request_dict):\n\u001B[1;32m    114\u001B[0m     logger\u001B[38;5;241m.\u001B[39mdebug(\n\u001B[1;32m    115\u001B[0m         \u001B[38;5;124m\"\u001B[39m\u001B[38;5;124mMaking request for \u001B[39m\u001B[38;5;132;01m%s\u001B[39;00m\u001B[38;5;124m with params: \u001B[39m\u001B[38;5;132;01m%s\u001B[39;00m\u001B[38;5;124m\"\u001B[39m,\n\u001B[1;32m    116\u001B[0m         operation_model,\n\u001B[1;32m    117\u001B[0m         request_dict,\n\u001B[1;32m    118\u001B[0m     )\n\u001B[0;32m--> 119\u001B[0m     \u001B[38;5;28;01mreturn\u001B[39;00m \u001B[38;5;28;43mself\u001B[39;49m\u001B[38;5;241;43m.\u001B[39;49m\u001B[43m_send_request\u001B[49m\u001B[43m(\u001B[49m\u001B[43mrequest_dict\u001B[49m\u001B[43m,\u001B[49m\u001B[43m \u001B[49m\u001B[43moperation_model\u001B[49m\u001B[43m)\u001B[49m\n",
      "File \u001B[0;32m~/workspace.bda/langchain/libs/community/.venv/lib/python3.11/site-packages/botocore/endpoint.py:196\u001B[0m, in \u001B[0;36mEndpoint._send_request\u001B[0;34m(self, request_dict, operation_model)\u001B[0m\n\u001B[1;32m    194\u001B[0m context \u001B[38;5;241m=\u001B[39m request_dict[\u001B[38;5;124m'\u001B[39m\u001B[38;5;124mcontext\u001B[39m\u001B[38;5;124m'\u001B[39m]\n\u001B[1;32m    195\u001B[0m \u001B[38;5;28mself\u001B[39m\u001B[38;5;241m.\u001B[39m_update_retries_context(context, attempts)\n\u001B[0;32m--> 196\u001B[0m request \u001B[38;5;241m=\u001B[39m \u001B[38;5;28;43mself\u001B[39;49m\u001B[38;5;241;43m.\u001B[39;49m\u001B[43mcreate_request\u001B[49m\u001B[43m(\u001B[49m\u001B[43mrequest_dict\u001B[49m\u001B[43m,\u001B[49m\u001B[43m \u001B[49m\u001B[43moperation_model\u001B[49m\u001B[43m)\u001B[49m\n\u001B[1;32m    197\u001B[0m success_response, exception \u001B[38;5;241m=\u001B[39m \u001B[38;5;28mself\u001B[39m\u001B[38;5;241m.\u001B[39m_get_response(\n\u001B[1;32m    198\u001B[0m     request, operation_model, context\n\u001B[1;32m    199\u001B[0m )\n\u001B[1;32m    200\u001B[0m \u001B[38;5;28;01mwhile\u001B[39;00m \u001B[38;5;28mself\u001B[39m\u001B[38;5;241m.\u001B[39m_needs_retry(\n\u001B[1;32m    201\u001B[0m     attempts,\n\u001B[1;32m    202\u001B[0m     operation_model,\n\u001B[0;32m   (...)\u001B[0m\n\u001B[1;32m    205\u001B[0m     exception,\n\u001B[1;32m    206\u001B[0m ):\n",
      "File \u001B[0;32m~/workspace.bda/langchain/libs/community/.venv/lib/python3.11/site-packages/botocore/endpoint.py:132\u001B[0m, in \u001B[0;36mEndpoint.create_request\u001B[0;34m(self, params, operation_model)\u001B[0m\n\u001B[1;32m    130\u001B[0m     service_id \u001B[38;5;241m=\u001B[39m operation_model\u001B[38;5;241m.\u001B[39mservice_model\u001B[38;5;241m.\u001B[39mservice_id\u001B[38;5;241m.\u001B[39mhyphenize()\n\u001B[1;32m    131\u001B[0m     event_name \u001B[38;5;241m=\u001B[39m \u001B[38;5;124mf\u001B[39m\u001B[38;5;124m'\u001B[39m\u001B[38;5;124mrequest-created.\u001B[39m\u001B[38;5;132;01m{\u001B[39;00mservice_id\u001B[38;5;132;01m}\u001B[39;00m\u001B[38;5;124m.\u001B[39m\u001B[38;5;132;01m{\u001B[39;00moperation_model\u001B[38;5;241m.\u001B[39mname\u001B[38;5;132;01m}\u001B[39;00m\u001B[38;5;124m'\u001B[39m\n\u001B[0;32m--> 132\u001B[0m     \u001B[38;5;28;43mself\u001B[39;49m\u001B[38;5;241;43m.\u001B[39;49m\u001B[43m_event_emitter\u001B[49m\u001B[38;5;241;43m.\u001B[39;49m\u001B[43memit\u001B[49m\u001B[43m(\u001B[49m\n\u001B[1;32m    133\u001B[0m \u001B[43m        \u001B[49m\u001B[43mevent_name\u001B[49m\u001B[43m,\u001B[49m\n\u001B[1;32m    134\u001B[0m \u001B[43m        \u001B[49m\u001B[43mrequest\u001B[49m\u001B[38;5;241;43m=\u001B[39;49m\u001B[43mrequest\u001B[49m\u001B[43m,\u001B[49m\n\u001B[1;32m    135\u001B[0m \u001B[43m        \u001B[49m\u001B[43moperation_name\u001B[49m\u001B[38;5;241;43m=\u001B[39;49m\u001B[43moperation_model\u001B[49m\u001B[38;5;241;43m.\u001B[39;49m\u001B[43mname\u001B[49m\u001B[43m,\u001B[49m\n\u001B[1;32m    136\u001B[0m \u001B[43m    \u001B[49m\u001B[43m)\u001B[49m\n\u001B[1;32m    137\u001B[0m prepared_request \u001B[38;5;241m=\u001B[39m \u001B[38;5;28mself\u001B[39m\u001B[38;5;241m.\u001B[39mprepare_request(request)\n\u001B[1;32m    138\u001B[0m \u001B[38;5;28;01mreturn\u001B[39;00m prepared_request\n",
      "File \u001B[0;32m~/workspace.bda/langchain/libs/community/.venv/lib/python3.11/site-packages/botocore/hooks.py:412\u001B[0m, in \u001B[0;36mEventAliaser.emit\u001B[0;34m(self, event_name, **kwargs)\u001B[0m\n\u001B[1;32m    410\u001B[0m \u001B[38;5;28;01mdef\u001B[39;00m \u001B[38;5;21memit\u001B[39m(\u001B[38;5;28mself\u001B[39m, event_name, \u001B[38;5;241m*\u001B[39m\u001B[38;5;241m*\u001B[39mkwargs):\n\u001B[1;32m    411\u001B[0m     aliased_event_name \u001B[38;5;241m=\u001B[39m \u001B[38;5;28mself\u001B[39m\u001B[38;5;241m.\u001B[39m_alias_event_name(event_name)\n\u001B[0;32m--> 412\u001B[0m     \u001B[38;5;28;01mreturn\u001B[39;00m \u001B[38;5;28;43mself\u001B[39;49m\u001B[38;5;241;43m.\u001B[39;49m\u001B[43m_emitter\u001B[49m\u001B[38;5;241;43m.\u001B[39;49m\u001B[43memit\u001B[49m\u001B[43m(\u001B[49m\u001B[43maliased_event_name\u001B[49m\u001B[43m,\u001B[49m\u001B[43m \u001B[49m\u001B[38;5;241;43m*\u001B[39;49m\u001B[38;5;241;43m*\u001B[39;49m\u001B[43mkwargs\u001B[49m\u001B[43m)\u001B[49m\n",
      "File \u001B[0;32m~/workspace.bda/langchain/libs/community/.venv/lib/python3.11/site-packages/botocore/hooks.py:256\u001B[0m, in \u001B[0;36mHierarchicalEmitter.emit\u001B[0;34m(self, event_name, **kwargs)\u001B[0m\n\u001B[1;32m    245\u001B[0m \u001B[38;5;28;01mdef\u001B[39;00m \u001B[38;5;21memit\u001B[39m(\u001B[38;5;28mself\u001B[39m, event_name, \u001B[38;5;241m*\u001B[39m\u001B[38;5;241m*\u001B[39mkwargs):\n\u001B[1;32m    246\u001B[0m \u001B[38;5;250m    \u001B[39m\u001B[38;5;124;03m\"\"\"\u001B[39;00m\n\u001B[1;32m    247\u001B[0m \u001B[38;5;124;03m    Emit an event by name with arguments passed as keyword args.\u001B[39;00m\n\u001B[1;32m    248\u001B[0m \n\u001B[0;32m   (...)\u001B[0m\n\u001B[1;32m    254\u001B[0m \u001B[38;5;124;03m             handlers.\u001B[39;00m\n\u001B[1;32m    255\u001B[0m \u001B[38;5;124;03m    \"\"\"\u001B[39;00m\n\u001B[0;32m--> 256\u001B[0m     \u001B[38;5;28;01mreturn\u001B[39;00m \u001B[38;5;28;43mself\u001B[39;49m\u001B[38;5;241;43m.\u001B[39;49m\u001B[43m_emit\u001B[49m\u001B[43m(\u001B[49m\u001B[43mevent_name\u001B[49m\u001B[43m,\u001B[49m\u001B[43m \u001B[49m\u001B[43mkwargs\u001B[49m\u001B[43m)\u001B[49m\n",
      "File \u001B[0;32m~/workspace.bda/langchain/libs/community/.venv/lib/python3.11/site-packages/botocore/hooks.py:239\u001B[0m, in \u001B[0;36mHierarchicalEmitter._emit\u001B[0;34m(self, event_name, kwargs, stop_on_response)\u001B[0m\n\u001B[1;32m    237\u001B[0m \u001B[38;5;28;01mfor\u001B[39;00m handler \u001B[38;5;129;01min\u001B[39;00m handlers_to_call:\n\u001B[1;32m    238\u001B[0m     logger\u001B[38;5;241m.\u001B[39mdebug(\u001B[38;5;124m'\u001B[39m\u001B[38;5;124mEvent \u001B[39m\u001B[38;5;132;01m%s\u001B[39;00m\u001B[38;5;124m: calling handler \u001B[39m\u001B[38;5;132;01m%s\u001B[39;00m\u001B[38;5;124m'\u001B[39m, event_name, handler)\n\u001B[0;32m--> 239\u001B[0m     response \u001B[38;5;241m=\u001B[39m \u001B[43mhandler\u001B[49m\u001B[43m(\u001B[49m\u001B[38;5;241;43m*\u001B[39;49m\u001B[38;5;241;43m*\u001B[39;49m\u001B[43mkwargs\u001B[49m\u001B[43m)\u001B[49m\n\u001B[1;32m    240\u001B[0m     responses\u001B[38;5;241m.\u001B[39mappend((handler, response))\n\u001B[1;32m    241\u001B[0m     \u001B[38;5;28;01mif\u001B[39;00m stop_on_response \u001B[38;5;129;01mand\u001B[39;00m response \u001B[38;5;129;01mis\u001B[39;00m \u001B[38;5;129;01mnot\u001B[39;00m \u001B[38;5;28;01mNone\u001B[39;00m:\n",
      "File \u001B[0;32m~/workspace.bda/langchain/libs/community/.venv/lib/python3.11/site-packages/botocore/signers.py:105\u001B[0m, in \u001B[0;36mRequestSigner.handler\u001B[0;34m(self, operation_name, request, **kwargs)\u001B[0m\n\u001B[1;32m    100\u001B[0m \u001B[38;5;28;01mdef\u001B[39;00m \u001B[38;5;21mhandler\u001B[39m(\u001B[38;5;28mself\u001B[39m, operation_name\u001B[38;5;241m=\u001B[39m\u001B[38;5;28;01mNone\u001B[39;00m, request\u001B[38;5;241m=\u001B[39m\u001B[38;5;28;01mNone\u001B[39;00m, \u001B[38;5;241m*\u001B[39m\u001B[38;5;241m*\u001B[39mkwargs):\n\u001B[1;32m    101\u001B[0m     \u001B[38;5;66;03m# This is typically hooked up to the \"request-created\" event\u001B[39;00m\n\u001B[1;32m    102\u001B[0m     \u001B[38;5;66;03m# from a client's event emitter.  When a new request is created\u001B[39;00m\n\u001B[1;32m    103\u001B[0m     \u001B[38;5;66;03m# this method is invoked to sign the request.\u001B[39;00m\n\u001B[1;32m    104\u001B[0m     \u001B[38;5;66;03m# Don't call this method directly.\u001B[39;00m\n\u001B[0;32m--> 105\u001B[0m     \u001B[38;5;28;01mreturn\u001B[39;00m \u001B[38;5;28;43mself\u001B[39;49m\u001B[38;5;241;43m.\u001B[39;49m\u001B[43msign\u001B[49m\u001B[43m(\u001B[49m\u001B[43moperation_name\u001B[49m\u001B[43m,\u001B[49m\u001B[43m \u001B[49m\u001B[43mrequest\u001B[49m\u001B[43m)\u001B[49m\n",
      "File \u001B[0;32m~/workspace.bda/langchain/libs/community/.venv/lib/python3.11/site-packages/botocore/signers.py:197\u001B[0m, in \u001B[0;36mRequestSigner.sign\u001B[0;34m(self, operation_name, request, region_name, signing_type, expires_in, signing_name)\u001B[0m\n\u001B[1;32m    194\u001B[0m     \u001B[38;5;28;01melse\u001B[39;00m:\n\u001B[1;32m    195\u001B[0m         \u001B[38;5;28;01mraise\u001B[39;00m e\n\u001B[0;32m--> 197\u001B[0m \u001B[43mauth\u001B[49m\u001B[38;5;241;43m.\u001B[39;49m\u001B[43madd_auth\u001B[49m\u001B[43m(\u001B[49m\u001B[43mrequest\u001B[49m\u001B[43m)\u001B[49m\n",
      "File \u001B[0;32m~/workspace.bda/langchain/libs/community/.venv/lib/python3.11/site-packages/botocore/auth.py:423\u001B[0m, in \u001B[0;36mSigV4Auth.add_auth\u001B[0;34m(self, request)\u001B[0m\n\u001B[1;32m    421\u001B[0m \u001B[38;5;28;01mdef\u001B[39;00m \u001B[38;5;21madd_auth\u001B[39m(\u001B[38;5;28mself\u001B[39m, request):\n\u001B[1;32m    422\u001B[0m     \u001B[38;5;28;01mif\u001B[39;00m \u001B[38;5;28mself\u001B[39m\u001B[38;5;241m.\u001B[39mcredentials \u001B[38;5;129;01mis\u001B[39;00m \u001B[38;5;28;01mNone\u001B[39;00m:\n\u001B[0;32m--> 423\u001B[0m         \u001B[38;5;28;01mraise\u001B[39;00m NoCredentialsError()\n\u001B[1;32m    424\u001B[0m     datetime_now \u001B[38;5;241m=\u001B[39m datetime\u001B[38;5;241m.\u001B[39mdatetime\u001B[38;5;241m.\u001B[39mutcnow()\n\u001B[1;32m    425\u001B[0m     request\u001B[38;5;241m.\u001B[39mcontext[\u001B[38;5;124m'\u001B[39m\u001B[38;5;124mtimestamp\u001B[39m\u001B[38;5;124m'\u001B[39m] \u001B[38;5;241m=\u001B[39m datetime_now\u001B[38;5;241m.\u001B[39mstrftime(SIGV4_TIMESTAMP)\n",
      "\u001B[0;31mNoCredentialsError\u001B[0m: Unable to locate credentials"
     ]
    }
   ],
   "execution_count": 21
  },
  {
   "metadata": {},
   "cell_type": "markdown",
   "source": [
    "### Generic Loader\n",
    "\n",
    "LangChain has a `GenericLoader` abstraction which composes a `BlobLoader` with a `BaseBlobParser`.\n",
    "\n",
    "`GenericLoader` is meant to provide standardized classmethods that make it easy to use existing `BlobLoader` implementations. At the moment, the `FileSystemBlobLoader` and `CloudBlobLoader` are supported."
   ],
   "id": "40c361ba4cd30164"
  },
  {
   "metadata": {
    "ExecuteTime": {
     "end_time": "2024-12-04T14:48:15.185543Z",
     "start_time": "2024-12-04T14:48:15.181114Z"
    }
   },
   "cell_type": "code",
   "source": [
    "from langchain_community.document_loaders.generic import GenericLoader\n",
    "generic_loader_filesystem = GenericLoader(blob_loader=filesystem_blob_loader,\n",
    "                                          blob_parser=parser)\n",
    "for idx, doc in enumerate(loader.lazy_load()):\n",
    "    if idx < 5:\n",
    "        print(doc)\n",
    "\n",
    "print(\"... output truncated for demo purposes\")"
   ],
   "id": "5dfb2be02fe662c5",
   "outputs": [
    {
     "name": "stdout",
     "output_type": "stream",
     "text": [
      "page_content='meow meow🐱 \n",
      "' metadata={'line_number': 0, 'source': './meow.txt'}\n",
      "page_content=' meow meow🐱 \n",
      "' metadata={'line_number': 1, 'source': './meow.txt'}\n",
      "page_content=' meow😻😻' metadata={'line_number': 2, 'source': './meow.txt'}\n",
      "... output truncated for demo purposes\n"
     ]
    }
   ],
   "execution_count": 20
  },
  {
   "metadata": {},
   "cell_type": "code",
   "outputs": [],
   "execution_count": null,
   "source": [
    "from langchain_community.document_loaders.generic import GenericLoader\n",
    "generic_loader_cloud = GenericLoader(blob_loader=cloud_blob_loader,\n",
    "                                     blob_parser=parser)\n",
    "for idx, doc in enumerate(loader.lazy_load()):\n",
    "    if idx < 5:\n",
    "        print(doc)\n",
    "\n",
    "print(\"... output truncated for demo purposes\")"
   ],
   "id": "5f339daa2fb09819"
  },
  {
   "cell_type": "markdown",
   "id": "902048b7-ff04-46c0-97b5-935b40ff8511",
   "metadata": {},
   "source": [
    "#### Custom Generic Loader\n",
    "\n",
    "If you really like creating classes, you can sub-class and create a class to encapsulate the logic together.\n",
    "\n",
    "You can sub-class from this class to load content using an existing loader."
   ]
  },
  {
   "cell_type": "code",
   "id": "23633102-dc44-4fed-a4e1-8159489101c8",
   "metadata": {
    "tags": [],
    "ExecuteTime": {
     "end_time": "2024-12-04T14:49:41.134539Z",
     "start_time": "2024-12-04T14:49:41.128893Z"
    }
   },
   "source": [
    "from typing import Any\n",
    "\n",
    "\n",
    "class MyCustomLoader(GenericLoader):\n",
    "    @staticmethod\n",
    "    def get_parser(**kwargs: Any) -> BaseBlobParser:\n",
    "        \"\"\"Override this method to associate a default parser with the class.\"\"\"\n",
    "        return MyParser()"
   ],
   "outputs": [],
   "execution_count": 21
  },
  {
   "cell_type": "code",
   "id": "dc95be85-4a29-4c6f-a260-08afa3c95538",
   "metadata": {
    "tags": [],
    "ExecuteTime": {
     "end_time": "2024-12-04T14:49:46.243777Z",
     "start_time": "2024-12-04T14:49:46.231480Z"
    }
   },
   "source": [
    "loader = MyCustomLoader.from_filesystem(path=\".\", glob=\"*.mdx\", show_progress=True)\n",
    "\n",
    "for idx, doc in enumerate(loader.lazy_load()):\n",
    "    if idx < 5:\n",
    "        print(doc)\n",
    "\n",
    "print(\"... output truncated for demo purposes\")"
   ],
   "outputs": [
    {
     "data": {
      "text/plain": [
       "0it [00:00, ?it/s]"
      ],
      "application/vnd.jupyter.widget-view+json": {
       "version_major": 2,
       "version_minor": 0,
       "model_id": "8eadb7e8d3a941bbb3b0311754be89c1"
      }
     },
     "metadata": {},
     "output_type": "display_data"
    },
    {
     "name": "stdout",
     "output_type": "stream",
     "text": [
      "... output truncated for demo purposes\n"
     ]
    }
   ],
   "execution_count": 22
  }
 ],
 "metadata": {
  "kernelspec": {
   "display_name": "Python 3 (ipykernel)",
   "language": "python",
   "name": "python3"
  },
  "language_info": {
   "codemirror_mode": {
    "name": "ipython",
    "version": 3
   },
   "file_extension": ".py",
   "mimetype": "text/x-python",
   "name": "python",
   "nbconvert_exporter": "python",
   "pygments_lexer": "ipython3",
   "version": "3.10.1"
  }
 },
 "nbformat": 4,
 "nbformat_minor": 5
}
