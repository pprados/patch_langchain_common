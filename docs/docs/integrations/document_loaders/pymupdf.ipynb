{
 "cells": [
  {
   "metadata": {},
   "cell_type": "markdown",
   "source": [
    "# PyMuPDFLoader\n",
    "\n",
    "This notebook provides a quick overview for getting started with `PyMuPDF` [document loader](https://python.langchain.com/docs/concepts/document_loaders). For detailed documentation of all __ModuleName__Loader features and configurations head to the [API reference](https://python.langchain.com/api_reference/community/document_loaders/langchain_community.document_loaders.pdf.PyMuPDFLoader.html).\n",
    "\n",
    "  \n",
    "\n",
    "## Overview\n",
    "### Integration details\n",
    "\n",
    "| Class | Package | Local | Serializable | JS support|\n",
    "| :--- | :--- | :---: | :---: |  :---: |\n",
    "| [PyMuPDFLoader](https://python.langchain.com/api_reference/community/document_loaders/langchain_community.document_loaders.pdf.PyMuPDFLoader.html) | [langchain_community](https://python.langchain.com/api_reference/community/index.html) | ✅ | ❌ | ❌ | \n",
    "\n",
    "---------   \n",
    "\n",
    "### Loader features\n",
    "\n",
    "| Source | Document Lazy Loading | Native Async Support | Extract Images | Extract Tables |\n",
    "| :---: | :---: | :---: | :---: |:---: |\n",
    "| PyMuPDFLoader | ✅ | ❌ | ✅ | ✅ |\n",
    "\n",
    "  \n",
    "\n",
    "## Setup\n",
    "\n",
    "### Credentials\n",
    "\n",
    "No credentials are required to use PyMuPDFLoader"
   ]
  },
  {
   "metadata": {},
   "cell_type": "markdown",
   "source": "If you want to get automated best in-class tracing of your model calls you can also set your [LangSmith](https://docs.smith.langchain.com/) API key by uncommenting below:"
  },
  {
   "metadata": {
    "ExecuteTime": {
     "end_time": "2024-12-11T15:08:35.663716Z",
     "start_time": "2024-12-11T15:08:35.658506Z"
    }
   },
   "cell_type": "code",
   "source": [
    "# os.environ[\"LANGSMITH_API_KEY\"] = getpass.getpass(\"Enter your LangSmith API key: \")\n",
    "# os.environ[\"LANGSMITH_TRACING\"] = \"true\""
   ],
   "outputs": [],
   "execution_count": 39
  },
  {
   "metadata": {},
   "cell_type": "markdown",
   "source": [
    "### Installation\n",
    "\n",
    "Install **langchain_community**."
   ]
  },
  {
   "metadata": {
    "ExecuteTime": {
     "end_time": "2024-12-11T15:08:39.909273Z",
     "start_time": "2024-12-11T15:08:35.736697Z"
    }
   },
   "cell_type": "code",
   "source": [
    "%pip install -qU langchain_community pymupdf pillow\n",
    "%pip install -qq ../../../../dist/patch_langchain_pdf_loader*.whl"
   ],
   "outputs": [
    {
     "name": "stdout",
     "output_type": "stream",
     "text": [
      "Note: you may need to restart the kernel to use updated packages.\n",
      "Note: you may need to restart the kernel to use updated packages.\n"
     ]
    }
   ],
   "execution_count": 40
  },
  {
   "metadata": {},
   "cell_type": "markdown",
   "source": [
    "## Initialization\n",
    "\n",
    "Now we can instantiate our model object and load documents:"
   ]
  },
  {
   "metadata": {
    "ExecuteTime": {
     "end_time": "2024-12-11T15:08:39.923976Z",
     "start_time": "2024-12-11T15:08:39.920480Z"
    }
   },
   "cell_type": "code",
   "source": [
    "from patch_langchain_community.document_loaders import PyMuPDFLoader\n",
    "\n",
    "file_path = \"./example_data/layout-parser-paper.pdf\"\n",
    "loader = PyMuPDFLoader(file_path)"
   ],
   "outputs": [],
   "execution_count": 41
  },
  {
   "metadata": {},
   "cell_type": "markdown",
   "source": "## Load"
  },
  {
   "metadata": {
    "ExecuteTime": {
     "end_time": "2024-12-11T15:08:40.027967Z",
     "start_time": "2024-12-11T15:08:39.963291Z"
    }
   },
   "cell_type": "code",
   "source": [
    "docs = loader.load()\n",
    "docs[0]"
   ],
   "outputs": [
    {
     "data": {
      "text/plain": [
       "Document(metadata={'source': './example_data/layout-parser-paper.pdf', 'file_path': './example_data/layout-parser-paper.pdf', 'total_pages': 16, 'format': 'PDF 1.5', 'title': '', 'author': '', 'subject': '', 'keywords': '', 'creator': 'LaTeX with hyperref', 'producer': 'pdfTeX-1.40.21', 'creationdate': '2021-06-22T01:27:10+00:00', 'moddate': '2021-06-22T01:27:10+00:00', 'trapped': '', 'page': 0}, page_content='LayoutParser: A Uniﬁed Toolkit for Deep\\nLearning Based Document Image Analysis\\nZejiang Shen1 (\\x00), Ruochen Zhang2, Melissa Dell3, Benjamin Charles Germain\\nLee4, Jacob Carlson3, and Weining Li5\\n1 Allen Institute for AI\\nshannons@allenai.org\\n2 Brown University\\nruochen zhang@brown.edu\\n3 Harvard University\\n{melissadell,jacob carlson}@fas.harvard.edu\\n4 University of Washington\\nbcgl@cs.washington.edu\\n5 University of Waterloo\\nw422li@uwaterloo.ca\\nAbstract. Recent advances in document image analysis (DIA) have been\\nprimarily driven by the application of neural networks. Ideally, research\\noutcomes could be easily deployed in production and extended for further\\ninvestigation. However, various factors like loosely organized codebases\\nand sophisticated model conﬁgurations complicate the easy reuse of im-\\nportant innovations by a wide audience. Though there have been on-going\\neﬀorts to improve reusability and simplify deep learning (DL) model\\ndevelopment in disciplines like natural language processing and computer\\nvision, none of them are optimized for challenges in the domain of DIA.\\nThis represents a major gap in the existing toolkit, as DIA is central to\\nacademic research across a wide range of disciplines in the social sciences\\nand humanities. This paper introduces LayoutParser, an open-source\\nlibrary for streamlining the usage of DL in DIA research and applica-\\ntions. The core LayoutParser library comes with a set of simple and\\nintuitive interfaces for applying and customizing DL models for layout de-\\ntection, character recognition, and many other document processing tasks.\\nTo promote extensibility, LayoutParser also incorporates a community\\nplatform for sharing both pre-trained models and full document digiti-\\nzation pipelines. We demonstrate that LayoutParser is helpful for both\\nlightweight and large-scale digitization pipelines in real-word use cases.\\nThe library is publicly available at https://layout-parser.github.io.\\nKeywords: Document Image Analysis · Deep Learning · Layout Analysis\\n· Character Recognition · Open Source library · Toolkit.\\n1\\nIntroduction\\nDeep Learning(DL)-based approaches are the state-of-the-art for a wide range of\\ndocument image analysis (DIA) tasks including document image classiﬁcation [11,\\narXiv:2103.15348v2  [cs.CV]  21 Jun 2021')"
      ]
     },
     "execution_count": 42,
     "metadata": {},
     "output_type": "execute_result"
    }
   ],
   "execution_count": 42
  },
  {
   "metadata": {
    "ExecuteTime": {
     "end_time": "2024-12-11T15:08:40.039737Z",
     "start_time": "2024-12-11T15:08:40.037167Z"
    }
   },
   "cell_type": "code",
   "source": [
    "import pprint\n",
    "\n",
    "pprint.pp(docs[0].metadata)"
   ],
   "outputs": [
    {
     "name": "stdout",
     "output_type": "stream",
     "text": [
      "{'source': './example_data/layout-parser-paper.pdf',\n",
      " 'file_path': './example_data/layout-parser-paper.pdf',\n",
      " 'total_pages': 16,\n",
      " 'format': 'PDF 1.5',\n",
      " 'title': '',\n",
      " 'author': '',\n",
      " 'subject': '',\n",
      " 'keywords': '',\n",
      " 'creator': 'LaTeX with hyperref',\n",
      " 'producer': 'pdfTeX-1.40.21',\n",
      " 'creationdate': '2021-06-22T01:27:10+00:00',\n",
      " 'moddate': '2021-06-22T01:27:10+00:00',\n",
      " 'trapped': '',\n",
      " 'page': 0}\n"
     ]
    }
   ],
   "execution_count": 43
  },
  {
   "metadata": {},
   "cell_type": "markdown",
   "source": "## Lazy Load\n"
  },
  {
   "metadata": {
    "ExecuteTime": {
     "end_time": "2024-12-11T15:08:40.151316Z",
     "start_time": "2024-12-11T15:08:40.082729Z"
    }
   },
   "cell_type": "code",
   "source": [
    "pages = []\n",
    "for doc in loader.lazy_load():\n",
    "    pages.append(doc)\n",
    "    if len(pages) >= 10:\n",
    "        # do some paged operation, e.g.\n",
    "        # index.upsert(page)\n",
    "\n",
    "        pages = []\n",
    "len(pages)"
   ],
   "outputs": [
    {
     "data": {
      "text/plain": [
       "6"
      ]
     },
     "execution_count": 44,
     "metadata": {},
     "output_type": "execute_result"
    }
   ],
   "execution_count": 44
  },
  {
   "metadata": {},
   "cell_type": "markdown",
   "source": [
    "*Metadata attribute now contains several pieces of information about the file in addition to the total number of pages.*   \n",
    "*Why is this important? If we want to reference a document, we need to determine if it’s relevant. A reference is valid if it helps the user quickly locate the fragment within the document (using the page and/or a chunk excerpt). But if the URL points to a PDF file without a page number (for various reasons) and the file has a large number of pages, we want to remove the reference that doesn’t assist the user. There’s no point in referencing a 100-page document! The total_pages metadata can then be used.*"
   ]
  },
  {
   "metadata": {
    "ExecuteTime": {
     "end_time": "2024-12-11T15:08:40.168656Z",
     "start_time": "2024-12-11T15:08:40.165427Z"
    }
   },
   "cell_type": "code",
   "source": [
    "pprint.pp(pages[0].page_content[:100])\n",
    "pprint.pp(pages[0].metadata)"
   ],
   "outputs": [
    {
     "name": "stdout",
     "output_type": "stream",
     "text": [
      "('LayoutParser: A Uniﬁed Toolkit for DL-Based DIA\\n'\n",
      " '11\\n'\n",
      " 'focuses on precision, eﬃciency, and robustness. T')\n",
      "{'source': './example_data/layout-parser-paper.pdf',\n",
      " 'file_path': './example_data/layout-parser-paper.pdf',\n",
      " 'total_pages': 16,\n",
      " 'format': 'PDF 1.5',\n",
      " 'title': '',\n",
      " 'author': '',\n",
      " 'subject': '',\n",
      " 'keywords': '',\n",
      " 'creator': 'LaTeX with hyperref',\n",
      " 'producer': 'pdfTeX-1.40.21',\n",
      " 'creationdate': '2021-06-22T01:27:10+00:00',\n",
      " 'moddate': '2021-06-22T01:27:10+00:00',\n",
      " 'trapped': '',\n",
      " 'page': 10}\n"
     ]
    }
   ],
   "execution_count": 45
  },
  {
   "metadata": {},
   "cell_type": "markdown",
   "source": "## Extract the PDF by page. Each page is extracted as a langchain Document object:"
  },
  {
   "metadata": {
    "ExecuteTime": {
     "end_time": "2024-12-11T15:08:40.272815Z",
     "start_time": "2024-12-11T15:08:40.214940Z"
    }
   },
   "cell_type": "code",
   "source": [
    "loader = PyMuPDFLoader(\n",
    "    \"./example_data/layout-parser-paper.pdf\",\n",
    "    mode=\"page\",\n",
    ")\n",
    "docs = loader.load()\n",
    "print(len(docs))"
   ],
   "outputs": [
    {
     "name": "stdout",
     "output_type": "stream",
     "text": [
      "16\n"
     ]
    }
   ],
   "execution_count": 46
  },
  {
   "metadata": {},
   "cell_type": "markdown",
   "source": "## Extract the whole PDF as a single langchain Document object:"
  },
  {
   "metadata": {
    "ExecuteTime": {
     "end_time": "2024-12-11T15:08:40.342512Z",
     "start_time": "2024-12-11T15:08:40.280667Z"
    }
   },
   "cell_type": "code",
   "source": [
    "loader = PyMuPDFLoader(\n",
    "    \"./example_data/layout-parser-paper.pdf\",\n",
    "    mode=\"single\",\n",
    ")\n",
    "docs = loader.load()\n",
    "print(len(docs))"
   ],
   "outputs": [
    {
     "name": "stdout",
     "output_type": "stream",
     "text": [
      "1\n"
     ]
    }
   ],
   "execution_count": 47
  },
  {
   "metadata": {},
   "cell_type": "markdown",
   "source": "## Add a custom *pages_delimitor* to identify where are ends of pages in *single* mode:"
  },
  {
   "metadata": {
    "ExecuteTime": {
     "end_time": "2024-12-11T15:08:40.407817Z",
     "start_time": "2024-12-11T15:08:40.352426Z"
    }
   },
   "cell_type": "code",
   "source": [
    "loader = PyMuPDFLoader(\n",
    "    \"./example_data/layout-parser-paper.pdf\",\n",
    "    mode=\"single\",\n",
    "    pages_delimitor=\"\\n-------THIS IS A CUSTOM END OF PAGE-------\\n\",\n",
    ")\n",
    "docs = loader.load()\n",
    "print(docs[0].page_content[:5780])"
   ],
   "outputs": [
    {
     "name": "stdout",
     "output_type": "stream",
     "text": [
      "LayoutParser: A Uniﬁed Toolkit for Deep\n",
      "Learning Based Document Image Analysis\n",
      "Zejiang Shen1 (\u0000), Ruochen Zhang2, Melissa Dell3, Benjamin Charles Germain\n",
      "Lee4, Jacob Carlson3, and Weining Li5\n",
      "1 Allen Institute for AI\n",
      "shannons@allenai.org\n",
      "2 Brown University\n",
      "ruochen zhang@brown.edu\n",
      "3 Harvard University\n",
      "{melissadell,jacob carlson}@fas.harvard.edu\n",
      "4 University of Washington\n",
      "bcgl@cs.washington.edu\n",
      "5 University of Waterloo\n",
      "w422li@uwaterloo.ca\n",
      "Abstract. Recent advances in document image analysis (DIA) have been\n",
      "primarily driven by the application of neural networks. Ideally, research\n",
      "outcomes could be easily deployed in production and extended for further\n",
      "investigation. However, various factors like loosely organized codebases\n",
      "and sophisticated model conﬁgurations complicate the easy reuse of im-\n",
      "portant innovations by a wide audience. Though there have been on-going\n",
      "eﬀorts to improve reusability and simplify deep learning (DL) model\n",
      "development in disciplines like natural language processing and computer\n",
      "vision, none of them are optimized for challenges in the domain of DIA.\n",
      "This represents a major gap in the existing toolkit, as DIA is central to\n",
      "academic research across a wide range of disciplines in the social sciences\n",
      "and humanities. This paper introduces LayoutParser, an open-source\n",
      "library for streamlining the usage of DL in DIA research and applica-\n",
      "tions. The core LayoutParser library comes with a set of simple and\n",
      "intuitive interfaces for applying and customizing DL models for layout de-\n",
      "tection, character recognition, and many other document processing tasks.\n",
      "To promote extensibility, LayoutParser also incorporates a community\n",
      "platform for sharing both pre-trained models and full document digiti-\n",
      "zation pipelines. We demonstrate that LayoutParser is helpful for both\n",
      "lightweight and large-scale digitization pipelines in real-word use cases.\n",
      "The library is publicly available at https://layout-parser.github.io.\n",
      "Keywords: Document Image Analysis · Deep Learning · Layout Analysis\n",
      "· Character Recognition · Open Source library · Toolkit.\n",
      "1\n",
      "Introduction\n",
      "Deep Learning(DL)-based approaches are the state-of-the-art for a wide range of\n",
      "document image analysis (DIA) tasks including document image classiﬁcation [11,\n",
      "arXiv:2103.15348v2  [cs.CV]  21 Jun 2021\n",
      "-------THIS IS A CUSTOM END OF PAGE-------\n",
      "2\n",
      "Z. Shen et al.\n",
      "37], layout detection [38, 22], table detection [26], and scene text detection [4].\n",
      "A generalized learning-based framework dramatically reduces the need for the\n",
      "manual speciﬁcation of complicated rules, which is the status quo with traditional\n",
      "methods. DL has the potential to transform DIA pipelines and beneﬁt a broad\n",
      "spectrum of large-scale document digitization projects.\n",
      "However, there are several practical diﬃculties for taking advantages of re-\n",
      "cent advances in DL-based methods: 1) DL models are notoriously convoluted\n",
      "for reuse and extension. Existing models are developed using distinct frame-\n",
      "works like TensorFlow [1] or PyTorch [24], and the high-level parameters can\n",
      "be obfuscated by implementation details [8]. It can be a time-consuming and\n",
      "frustrating experience to debug, reproduce, and adapt existing models for DIA,\n",
      "and many researchers who would beneﬁt the most from using these methods lack\n",
      "the technical background to implement them from scratch. 2) Document images\n",
      "contain diverse and disparate patterns across domains, and customized training\n",
      "is often required to achieve a desirable detection accuracy. Currently there is no\n",
      "full-ﬂedged infrastructure for easily curating the target document image datasets\n",
      "and ﬁne-tuning or re-training the models. 3) DIA usually requires a sequence of\n",
      "models and other processing to obtain the ﬁnal outputs. Often research teams use\n",
      "DL models and then perform further document analyses in separate processes,\n",
      "and these pipelines are not documented in any central location (and often not\n",
      "documented at all). This makes it diﬃcult for research teams to learn about how\n",
      "full pipelines are implemented and leads them to invest signiﬁcant resources in\n",
      "reinventing the DIA wheel.\n",
      "LayoutParser provides a uniﬁed toolkit to support DL-based document image\n",
      "analysis and processing. To address the aforementioned challenges, LayoutParser\n",
      "is built with the following components:\n",
      "1. An oﬀ-the-shelf toolkit for applying DL models for layout detection, character\n",
      "recognition, and other DIA tasks (Section 3)\n",
      "2. A rich repository of pre-trained neural network models (Model Zoo) that\n",
      "underlies the oﬀ-the-shelf usage\n",
      "3. Comprehensive tools for eﬃcient document image data annotation and model\n",
      "tuning to support diﬀerent levels of customization\n",
      "4. A DL model hub and community platform for the easy sharing, distribu-\n",
      "tion, and discussion of DIA models and pipelines, to promote reusability,\n",
      "reproducibility, and extensibility (Section 4)\n",
      "The library implements simple and intuitive Python APIs without sacriﬁcing\n",
      "generalizability and versatility, and can be easily installed via pip. Its convenient\n",
      "functions for handling document image data can be seamlessly integrated with\n",
      "existing DIA pipelines. With detailed documentations and carefully curated\n",
      "tutorials, we hope this tool will beneﬁt a variety of end-users, and will lead to\n",
      "advances in applications in both industry and academic research.\n",
      "LayoutParser is well aligned with recent eﬀorts for improving DL model\n",
      "reusability in other disciplines like natural language processing [8, 34] and com-\n",
      "puter vision [35], but with a focus on unique challenges in DIA. We show\n",
      "LayoutParser can be applied in sophisticated and large-scale digitization projects\n",
      "-------THIS IS A CUSTOM END OF PAGE-------\n",
      "LayoutParser: A Uniﬁed Toolkit for DL-Based DIA\n",
      "3\n",
      "that require precision, eﬃciency, and robustness, as well as simple and light-\n",
      "weigh\n"
     ]
    }
   ],
   "execution_count": 48
  },
  {
   "metadata": {},
   "cell_type": "markdown",
   "source": [
    "*This could simply be \\n, or \\f to clearly indicate a page change, or \\<!-- PAGE BREAK --> for seamless injection in a Markdown viewer without a visual effect.*\n",
    "\n",
    "*Why is it important to identify page breaks when retrieving the full document flow? Because we generally want to provide a URL with the chunk’s location when the LLM answers. While it’s possible to reference the entire PDF, this isn’t practical if it’s more than two pages long. It’s better to indicate the specific page to display in the URL. Therefore, assistance is needed so that chunking algorithms can add the page metadata to each chunk. The choice of delimiter helps the algorithm prioritize this parameter.*"
   ]
  },
  {
   "metadata": {},
   "cell_type": "markdown",
   "source": "# Extract images from the PDF"
  },
  {
   "metadata": {},
   "cell_type": "markdown",
   "source": [
    "*In LangChain the OCR process used by the parsers involves asking the parser for the text on a page, then retrieving images to apply OCR.   \n",
    "In the previous implementation the text extracted from images was appended to the end of the page text. In a RAG context it means if in the original document a paragraph is spread across two pages it would have been cut in half by the OCR process putting the text (from the image) in between, worsening RAG model's performance.*    \n",
    "   \n",
    "*To avoid this, we modified the strategy for injecting OCR results from images. Now, the result is inserted between the last and the second-to-last paragraphs of text (\\n\\n or \\n) of the page.*"
   ]
  },
  {
   "metadata": {},
   "cell_type": "markdown",
   "source": "## Extract images from the PDF in *html* format (can also be *markdown* or *text*) with rapid OCR: "
  },
  {
   "metadata": {
    "ExecuteTime": {
     "end_time": "2024-12-11T15:08:41.931484Z",
     "start_time": "2024-12-11T15:08:40.415969Z"
    }
   },
   "cell_type": "code",
   "source": "%pip install -qU rapidocr-onnxruntime",
   "outputs": [
    {
     "name": "stdout",
     "output_type": "stream",
     "text": [
      "Note: you may need to restart the kernel to use updated packages.\n"
     ]
    }
   ],
   "execution_count": 49
  },
  {
   "metadata": {
    "ExecuteTime": {
     "end_time": "2024-12-11T15:10:56.779724Z",
     "start_time": "2024-12-11T15:08:41.943083Z"
    }
   },
   "cell_type": "code",
   "source": [
    "from patch_langchain_community.document_loaders.parsers.pdf import (\n",
    "    convert_images_to_text_with_rapidocr,\n",
    ")\n",
    "\n",
    "loader = PyMuPDFLoader(\n",
    "    \"./example_data/layout-parser-paper.pdf\",\n",
    "    mode=\"page\",\n",
    "    extract_images=True,\n",
    "    images_to_text=convert_images_to_text_with_rapidocr(format=\"html\"),\n",
    ")\n",
    "docs = loader.load()\n",
    "\n",
    "print(docs[5].page_content)"
   ],
   "outputs": [
    {
     "name": "stdout",
     "output_type": "stream",
     "text": [
      "6\n",
      "Z. Shen et al.\n",
      "Fig. 2: The relationship between the three types of layout data structures.\n",
      "Coordinate supports three kinds of variation; TextBlock consists of the co-\n",
      "ordinate information and extra features like block text, types, and reading orders;\n",
      "a Layout object is a list of all possible layout elements, including other Layout\n",
      "objects. They all support the same set of transformation and operation APIs for\n",
      "maximum ﬂexibility.\n",
      "Shown in Table 1, LayoutParser currently hosts 9 pre-trained models trained\n",
      "on 5 diﬀerent datasets. Description of the training dataset is provided alongside\n",
      "with the trained models such that users can quickly identify the most suitable\n",
      "models for their tasks. Additionally, when such a model is not readily available,\n",
      "LayoutParser also supports training customized layout models and community\n",
      "sharing of the models (detailed in Section 3.5).\n",
      "3.2\n",
      "Layout Data Structures\n",
      "A critical feature of LayoutParser is the implementation of a series of data\n",
      "structures and operations that can be used to eﬃciently process and manipulate\n",
      "the layout elements. In document image analysis pipelines, various post-processing\n",
      "on the layout analysis model outputs is usually required to obtain the ﬁnal\n",
      "outputs. Traditionally, this requires exporting DL model outputs and then loading\n",
      "the results into other pipelines. All model outputs from LayoutParser will be\n",
      "stored in carefully engineered data types optimized for further processing, which\n",
      "makes it possible to build an end-to-end document digitization pipeline within\n",
      "LayoutParser. There are three key components in the data structure, namely\n",
      "the Coordinate system, the TextBlock, and the Layout. They provide diﬀerent\n",
      "levels of abstraction for the layout data, and a set of APIs are supported for\n",
      "transformations or operations on these classes.\n",
      "\n",
      "\n",
      "\n",
      "\n",
      "<img alt=\"Coordinate\n",
      "(x1, y1)\n",
      "(X1, y1)\n",
      "(x2,y2)\n",
      "APIS\n",
      "x-interval\n",
      "tart\n",
      "end\n",
      "Quadrilateral\n",
      "operation\n",
      "Rectangle\n",
      "y-interval\n",
      "ena\n",
      "(x2, y2)\n",
      "(x4, y4)\n",
      "(x3, y3)\n",
      "and\n",
      "textblock\n",
      "Coordinate\n",
      "transformation\n",
      "+\n",
      "Block\n",
      "Block\n",
      "Reading\n",
      "Extra features\n",
      "Text\n",
      "Type\n",
      "Order\n",
      "coordinatel\n",
      "textblockl\n",
      "layout\n",
      " same\n",
      "textblock2\n",
      "layoutl\n",
      "The\n",
      "A list of the layout elements\" />\n"
     ]
    }
   ],
   "execution_count": 50
  },
  {
   "metadata": {},
   "cell_type": "markdown",
   "source": "*RapidOCR is designed to work with Chinese and English, not other languages. Since the implementation uses a function rather than a method, it’s not possible to modify it. We have modified the various parsers to allow for selecting other algorithm to analyze images. Now, it’s possible to also use Tesseract, or invoke a multimodal LLM to get a description of the image.*"
  },
  {
   "metadata": {},
   "cell_type": "markdown",
   "source": "## Extract images from the PDF in *text* format (can also be *html* or *markdown*) with tesseract: "
  },
  {
   "metadata": {
    "ExecuteTime": {
     "end_time": "2024-12-11T15:10:58.209695Z",
     "start_time": "2024-12-11T15:10:56.867581Z"
    }
   },
   "cell_type": "code",
   "source": "%pip install -qU pytesseract",
   "outputs": [
    {
     "name": "stdout",
     "output_type": "stream",
     "text": [
      "Note: you may need to restart the kernel to use updated packages.\n"
     ]
    }
   ],
   "execution_count": 51
  },
  {
   "metadata": {
    "ExecuteTime": {
     "end_time": "2024-12-11T15:11:22.399229Z",
     "start_time": "2024-12-11T15:10:58.217401Z"
    }
   },
   "cell_type": "code",
   "source": [
    "from patch_langchain_community.document_loaders.parsers.pdf import (\n",
    "    convert_images_to_text_with_tesseract,\n",
    ")\n",
    "\n",
    "loader = PyMuPDFLoader(\n",
    "    \"./example_data/layout-parser-paper.pdf\",\n",
    "    mode=\"page\",\n",
    "    extract_images=True,\n",
    "    images_to_text=convert_images_to_text_with_tesseract(format=\"text\"),\n",
    ")\n",
    "docs = loader.load()\n",
    "print(docs[5].page_content)"
   ],
   "outputs": [
    {
     "name": "stdout",
     "output_type": "stream",
     "text": [
      "6\n",
      "Z. Shen et al.\n",
      "Fig. 2: The relationship between the three types of layout data structures.\n",
      "Coordinate supports three kinds of variation; TextBlock consists of the co-\n",
      "ordinate information and extra features like block text, types, and reading orders;\n",
      "a Layout object is a list of all possible layout elements, including other Layout\n",
      "objects. They all support the same set of transformation and operation APIs for\n",
      "maximum ﬂexibility.\n",
      "Shown in Table 1, LayoutParser currently hosts 9 pre-trained models trained\n",
      "on 5 diﬀerent datasets. Description of the training dataset is provided alongside\n",
      "with the trained models such that users can quickly identify the most suitable\n",
      "models for their tasks. Additionally, when such a model is not readily available,\n",
      "LayoutParser also supports training customized layout models and community\n",
      "sharing of the models (detailed in Section 3.5).\n",
      "3.2\n",
      "Layout Data Structures\n",
      "A critical feature of LayoutParser is the implementation of a series of data\n",
      "structures and operations that can be used to eﬃciently process and manipulate\n",
      "the layout elements. In document image analysis pipelines, various post-processing\n",
      "on the layout analysis model outputs is usually required to obtain the ﬁnal\n",
      "outputs. Traditionally, this requires exporting DL model outputs and then loading\n",
      "the results into other pipelines. All model outputs from LayoutParser will be\n",
      "stored in carefully engineered data types optimized for further processing, which\n",
      "makes it possible to build an end-to-end document digitization pipeline within\n",
      "LayoutParser. There are three key components in the data structure, namely\n",
      "the Coordinate system, the TextBlock, and the Layout. They provide diﬀerent\n",
      "levels of abstraction for the layout data, and a set of APIs are supported for\n",
      "transformations or operations on these classes.\n",
      "\n",
      "\n",
      "\n",
      "\n",
      "Coordinate\n",
      "\n",
      "textblock\n",
      "\n",
      "x-interval\n",
      "\n",
      " \n",
      "\n",
      "JeAsaqul-A\n",
      "\n",
      "Coordinate\n",
      "+\n",
      "\n",
      "Extra features\n",
      "\n",
      "Rectangle\n",
      "\n",
      "Quadrilateral\n",
      "\n",
      " \n",
      "\n",
      "Block\n",
      "Text\n",
      "\n",
      " \n",
      "\n",
      " \n",
      "\n",
      " \n",
      "\n",
      "Block\n",
      "Type\n",
      "\n",
      " \n",
      "\n",
      " \n",
      "\n",
      "Reading\n",
      "Order\n",
      "\n",
      " \n",
      "\n",
      " \n",
      "\n",
      "layout\n",
      "\n",
      "[ coordinatel textblock1 |\n",
      "'\n",
      "\n",
      "“y textblock2 , layout1 ]\n",
      "\n",
      "A list of the layout elements\n",
      "\n",
      "The same transformation and operation APIs\n"
     ]
    }
   ],
   "execution_count": 52
  },
  {
   "metadata": {},
   "cell_type": "markdown",
   "source": "## Extract images from the PDF in *markdown* format (can also be *html* or *text*) with vision model: "
  },
  {
   "metadata": {
    "ExecuteTime": {
     "end_time": "2024-12-11T15:11:23.682927Z",
     "start_time": "2024-12-11T15:11:22.407422Z"
    }
   },
   "cell_type": "code",
   "source": "%pip install -qU langchain_openai",
   "outputs": [
    {
     "name": "stdout",
     "output_type": "stream",
     "text": [
      "Note: you may need to restart the kernel to use updated packages.\n"
     ]
    }
   ],
   "execution_count": 53
  },
  {
   "metadata": {
    "ExecuteTime": {
     "end_time": "2024-12-11T15:11:23.702711Z",
     "start_time": "2024-12-11T15:11:23.698355Z"
    }
   },
   "cell_type": "code",
   "source": [
    "import os\n",
    "from dotenv import load_dotenv\n",
    "\n",
    "# Charger les variables d'environnement à partir du fichier .env\n",
    "load_dotenv()"
   ],
   "outputs": [
    {
     "data": {
      "text/plain": [
       "True"
      ]
     },
     "execution_count": 54,
     "metadata": {},
     "output_type": "execute_result"
    }
   ],
   "execution_count": 54
  },
  {
   "metadata": {
    "ExecuteTime": {
     "end_time": "2024-12-11T15:11:23.739719Z",
     "start_time": "2024-12-11T15:11:23.737039Z"
    }
   },
   "cell_type": "code",
   "source": [
    "from getpass import getpass\n",
    "\n",
    "if not os.environ.get(\"OPENAI_API_KEY\"):\n",
    "    os.environ[\"OPENAI_API_KEY\"] = getpass(\"OpenAI API key =\")"
   ],
   "outputs": [],
   "execution_count": 55
  },
  {
   "metadata": {
    "ExecuteTime": {
     "end_time": "2024-12-11T15:14:43.816012Z",
     "start_time": "2024-12-11T15:11:23.784163Z"
    }
   },
   "cell_type": "code",
   "source": [
    "from langchain_openai import ChatOpenAI\n",
    "from patch_langchain_community.document_loaders.parsers.pdf import (\n",
    "    convert_images_to_description,\n",
    ")\n",
    "\n",
    "loader = PyMuPDFLoader(\n",
    "    \"./example_data/layout-parser-paper.pdf\",\n",
    "    mode=\"page\",\n",
    "    extract_images=True,\n",
    "    images_to_text=convert_images_to_description(\n",
    "        model=ChatOpenAI(model=\"gpt-4o\", max_tokens=1024), format=\"markdown\"\n",
    "    ),\n",
    ")\n",
    "docs = loader.load()\n",
    "print(docs[5].page_content)"
   ],
   "outputs": [
    {
     "name": "stdout",
     "output_type": "stream",
     "text": [
      "6\n",
      "Z. Shen et al.\n",
      "Fig. 2: The relationship between the three types of layout data structures.\n",
      "Coordinate supports three kinds of variation; TextBlock consists of the co-\n",
      "ordinate information and extra features like block text, types, and reading orders;\n",
      "a Layout object is a list of all possible layout elements, including other Layout\n",
      "objects. They all support the same set of transformation and operation APIs for\n",
      "maximum ﬂexibility.\n",
      "Shown in Table 1, LayoutParser currently hosts 9 pre-trained models trained\n",
      "on 5 diﬀerent datasets. Description of the training dataset is provided alongside\n",
      "with the trained models such that users can quickly identify the most suitable\n",
      "models for their tasks. Additionally, when such a model is not readily available,\n",
      "LayoutParser also supports training customized layout models and community\n",
      "sharing of the models (detailed in Section 3.5).\n",
      "3.2\n",
      "Layout Data Structures\n",
      "A critical feature of LayoutParser is the implementation of a series of data\n",
      "structures and operations that can be used to eﬃciently process and manipulate\n",
      "the layout elements. In document image analysis pipelines, various post-processing\n",
      "on the layout analysis model outputs is usually required to obtain the ﬁnal\n",
      "outputs. Traditionally, this requires exporting DL model outputs and then loading\n",
      "the results into other pipelines. All model outputs from LayoutParser will be\n",
      "stored in carefully engineered data types optimized for further processing, which\n",
      "makes it possible to build an end-to-end document digitization pipeline within\n",
      "LayoutParser. There are three key components in the data structure, namely\n",
      "the Coordinate system, the TextBlock, and the Layout. They provide diﬀerent\n",
      "levels of abstraction for the layout data, and a set of APIs are supported for\n",
      "transformations or operations on these classes.\n",
      "\n",
      "\n",
      "\n",
      "\n",
      "![Summary: The image illustrates a conceptual model for handling layout elements in a system, featuring coordinates and text blocks. It shows diagrams of a rectangle and quadrilateral with labeled points, intervals, and additional features like block text, type, and reading order. The layout consists of coordinates and text blocks, emphasizing transformation and operation APIs.\n",
      "\n",
      "Extracted Text:\n",
      "- Coordinate\n",
      "- x-interval\n",
      "- y-interval\n",
      "- start\n",
      "- end\n",
      "- (x1, y1)\n",
      "- (x2, y2)\n",
      "- (x3, y3)\n",
      "- (x4, y4)\n",
      "- Rectangle\n",
      "- Quadrilateral\n",
      "- textblock\n",
      "- Coordinate\n",
      "- Extra features\n",
      "- Block Text\n",
      "- Block Type\n",
      "- Reading Order\n",
      "- layout\n",
      "- [ coordinate1, textblock1, ..., textblock2, layout1 \\\\]\n",
      "- A list of the layout elements\n",
      "- The same transformation and operation APIs](.)\n"
     ]
    }
   ],
   "execution_count": 56
  },
  {
   "metadata": {},
   "cell_type": "markdown",
   "source": "# Extract tables from the PDF in *markdown* (can also be *html* or *csv*)"
  },
  {
   "metadata": {
    "ExecuteTime": {
     "end_time": "2024-12-11T15:14:45.184973Z",
     "start_time": "2024-12-11T15:14:43.861257Z"
    }
   },
   "cell_type": "code",
   "source": [
    "loader = PyMuPDFLoader(\n",
    "    \"./example_data/layout-parser-paper.pdf\",\n",
    "    mode=\"page\",\n",
    "    extract_tables=\"markdown\",\n",
    ")\n",
    "docs = loader.load()\n",
    "print(docs[4].page_content)"
   ],
   "outputs": [
    {
     "name": "stdout",
     "output_type": "stream",
     "text": [
      "LayoutParser: A Uniﬁed Toolkit for DL-Based DIA\n",
      "5\n",
      "Table 1: Current layout detection models in the LayoutParser model zoo\n",
      "Dataset\n",
      "Base Model1 Large Model\n",
      "Notes\n",
      "PubLayNet [38]\n",
      "F / M\n",
      "M\n",
      "Layouts of modern scientiﬁc documents\n",
      "PRImA [3]\n",
      "M\n",
      "-\n",
      "Layouts of scanned modern magazines and scientiﬁc reports\n",
      "Newspaper [17]\n",
      "F\n",
      "-\n",
      "Layouts of scanned US newspapers from the 20th century\n",
      "TableBank [18]\n",
      "F\n",
      "F\n",
      "Table region on modern scientiﬁc and business document\n",
      "HJDataset [31]\n",
      "F / M\n",
      "-\n",
      "Layouts of history Japanese documents\n",
      "1 For each dataset, we train several models of diﬀerent sizes for diﬀerent needs (the trade-oﬀbetween accuracy\n",
      "vs. computational cost). For “base model” and “large model”, we refer to using the ResNet 50 or ResNet 101\n",
      "backbones [13], respectively. One can train models of diﬀerent architectures, like Faster R-CNN [28] (F) and Mask\n",
      "R-CNN [12] (M). For example, an F in the Large Model column indicates it has a Faster R-CNN model trained\n",
      "using the ResNet 101 backbone. The platform is maintained and a number of additions will be made to the model\n",
      "zoo in coming months.\n",
      "layout data structures, which are optimized for eﬃciency and versatility. 3) When\n",
      "necessary, users can employ existing or customized OCR models via the uniﬁed\n",
      "API provided in the OCR module. 4) LayoutParser comes with a set of utility\n",
      "functions for the visualization and storage of the layout data. 5) LayoutParser\n",
      "is also highly customizable, via its integration with functions for layout data\n",
      "annotation and model training. We now provide detailed descriptions for each\n",
      "component.\n",
      "3.1\n",
      "Layout Detection Models\n",
      "In LayoutParser, a layout model takes a document image as an input and\n",
      "generates a list of rectangular boxes for the target content regions. Diﬀerent\n",
      "from traditional methods, it relies on deep convolutional neural networks rather\n",
      "than manually curated rules to identify content regions. It is formulated as an\n",
      "object detection problem and state-of-the-art models like Faster R-CNN [28] and\n",
      "Mask R-CNN [12] are used. This yields prediction results of high accuracy and\n",
      "makes it possible to build a concise, generalized interface for layout detection.\n",
      "LayoutParser, built upon Detectron2 [35], provides a minimal API that can\n",
      "perform layout detection with only four lines of code in Python:\n",
      "1 import\n",
      "layoutparser as lp\n",
      "2 image = cv2.imread(\"image_file\") # load\n",
      "images\n",
      "3 model = lp. Detectron2LayoutModel (\n",
      "4\n",
      "\"lp:// PubLayNet/ faster_rcnn_R_50_FPN_3x /config\")\n",
      "5 layout = model.detect(image)\n",
      "LayoutParser provides a wealth of pre-trained model weights using various\n",
      "datasets covering diﬀerent languages, time periods, and document types. Due to\n",
      "domain shift [7], the prediction performance can notably drop when models are ap-\n",
      "plied to target samples that are signiﬁcantly diﬀerent from the training dataset. As\n",
      "document structures and layouts vary greatly in diﬀerent domains, it is important\n",
      "to select models trained on a dataset similar to the test samples. A semantic syntax\n",
      "is used for initializing the model weights in LayoutParser, using both the dataset\n",
      "name and model name lp://<dataset-name>/<model-architecture-name>.\n",
      "\n",
      "\n",
      "|Dataset|Base Model1|Large Model|Notes|\n",
      "|---|---|---|---|\n",
      "|PubLayNet [38] PRImA [3] Newspaper [17] TableBank [18] HJDataset [31]|F / M M F F F / M|M &amp;#45; &amp;#45; F &amp;#45;|Layouts of modern scientific documents Layouts of scanned modern magazines and scientific reports Layouts of scanned US newspapers from the 20th century Table region on modern scientific and business document Layouts of history Japanese documents|\n"
     ]
    }
   ],
   "execution_count": 57
  },
  {
   "metadata": {},
   "cell_type": "markdown",
   "source": [
    "## API reference\n",
    "\n",
    "For detailed documentation of all `PyMuPDFLoader` features and configurations head to the API reference: https://python.langchain.com/api_reference/community/document_loaders/langchain_community.document_loaders.pdf.PyMuPDFLoader.html"
   ]
  }
 ],
 "metadata": {
  "kernelspec": {
   "display_name": "Python 3",
   "language": "python",
   "name": "python3"
  },
  "language_info": {
   "codemirror_mode": {
    "name": "ipython",
    "version": 3
   },
   "file_extension": ".py",
   "mimetype": "text/x-python",
   "name": "python",
   "nbconvert_exporter": "python",
   "pygments_lexer": "ipython3",
   "version": "3.11.9"
  }
 },
 "nbformat": 4,
 "nbformat_minor": 2
}
